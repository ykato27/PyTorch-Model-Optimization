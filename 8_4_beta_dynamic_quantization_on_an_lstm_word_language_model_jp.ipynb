{
  "nbformat": 4,
  "nbformat_minor": 0,
  "metadata": {
    "kernelspec": {
      "display_name": "Python 3",
      "language": "python",
      "name": "python3"
    },
    "language_info": {
      "codemirror_mode": {
        "name": "ipython",
        "version": 3
      },
      "file_extension": ".py",
      "mimetype": "text/x-python",
      "name": "python",
      "nbconvert_exporter": "python",
      "pygments_lexer": "ipython3",
      "version": "3.7.1"
    },
    "colab": {
      "name": "8_4_beta_dynamic_quantization_on_an_lstm_word_language_model_jp.ipynb",
      "provenance": [],
      "collapsed_sections": [],
      "include_colab_link": true
    },
    "accelerator": "GPU"
  },
  "cells": [
    {
      "cell_type": "markdown",
      "metadata": {
        "id": "view-in-github",
        "colab_type": "text"
      },
      "source": [
        "<a href=\"https://colab.research.google.com/github/ykato27/PyTroch-Model-Optimization/blob/main/8_4_beta_dynamic_quantization_on_an_lstm_word_language_model_jp.ipynb\" target=\"_parent\"><img src=\"https://colab.research.google.com/assets/colab-badge.svg\" alt=\"Open In Colab\"/></a>"
      ]
    },
    {
      "cell_type": "markdown",
      "metadata": {
        "id": "FUUh1hCNl_Kc"
      },
      "source": [
        "# 「LSTM単語言語モデルの動的量子化（ベータ版）」\n",
        "\n",
        "【原題】(beta) Dynamic Quantization on an LSTM Word Language Model\n",
        "\n",
        "【原著】[James Reed](https://github.com/jamesr66a)\n",
        "\n",
        "【編著】[Seth Weidman](https://github.com/SethHWeidman/)\n",
        "\n",
        "【元URL】https://pytorch.org/tutorials/advanced/dynamic_quantization_tutorial.html\n",
        "\n",
        "【翻訳】電通国際情報サービスISID HCM事業部　櫻井 亮佑\n",
        "\n",
        "【日付】2020年1月31日\n",
        "\n",
        "【チュトーリアル概要】\n",
        "\n",
        "本チュートリアルでは、重みの数値を格納するビット数を減らし、モデルサイズの削減、推論速度向上に寄与する量子化を、LSTMベースの次単語予測モデルに適用します"
      ]
    },
    {
      "cell_type": "markdown",
      "metadata": {
        "id": "txxI8wWal_Ko"
      },
      "source": [
        "## 導入\n",
        "\n",
        "量子化では、モデルの重みと活性化をfloatからintに変換します。\n",
        "\n",
        "量子化により、精度への影響を最小限に抑えた上でモデルのサイズを小さくし、推論を高速化することができます。\n",
        "\n",
        "本チュートリアルでは、PyTorchのサンプル例より、[単語言語モデル](https://github.com/pytorch/examples/tree/master/word_language_model)に対して、LSTMベースの次単語予測モデルに最も簡単な量子化の仕組みである[動的量子化](https://pytorch.org/docs/stable/quantization.html#torch.quantization.quantize_dynamic) を適用します。"
      ]
    },
    {
      "cell_type": "code",
      "metadata": {
        "id": "cgTgZSiol_Kn"
      },
      "source": [
        "%matplotlib inline"
      ],
      "execution_count": 1,
      "outputs": []
    },
    {
      "cell_type": "code",
      "metadata": {
        "id": "P34gcN8ul_Kp"
      },
      "source": [
        "# インポート\n",
        "import os\n",
        "from io import open\n",
        "import time\n",
        "\n",
        "import torch\n",
        "import torch.nn as nn\n",
        "import torch.nn.functional as F"
      ],
      "execution_count": 2,
      "outputs": []
    },
    {
      "cell_type": "markdown",
      "metadata": {
        "id": "4zuWtxyUl_Kq"
      },
      "source": [
        "## 1. モデルの定義\n",
        "\n",
        "単語言語モデルの例より、こちらの[モデル](https://github.com/pytorch/examples/blob/master/word_language_model/model.py)に従い、LSTMモデルの構造を定義します。"
      ]
    },
    {
      "cell_type": "code",
      "metadata": {
        "id": "EciUg0qql_Kq"
      },
      "source": [
        "class LSTMModel(nn.Module):\n",
        "    \"\"\"エンコーダー、再帰モジュール、そしてデコーダーを含むモデル構成\"\"\"\n",
        "\n",
        "    def __init__(self, ntoken, ninp, nhid, nlayers, dropout=0.5):\n",
        "        super(LSTMModel, self).__init__()\n",
        "        self.drop = nn.Dropout(dropout)\n",
        "        self.encoder = nn.Embedding(ntoken, ninp)\n",
        "        self.rnn = nn.LSTM(ninp, nhid, nlayers, dropout=dropout)\n",
        "        self.decoder = nn.Linear(nhid, ntoken)\n",
        "\n",
        "        self.init_weights()\n",
        "\n",
        "        self.nhid = nhid\n",
        "        self.nlayers = nlayers\n",
        "\n",
        "    def init_weights(self):\n",
        "        initrange = 0.1\n",
        "        self.encoder.weight.data.uniform_(-initrange, initrange)\n",
        "        self.decoder.bias.data.zero_()\n",
        "        self.decoder.weight.data.uniform_(-initrange, initrange)\n",
        "\n",
        "    def forward(self, input, hidden):\n",
        "        emb = self.drop(self.encoder(input))\n",
        "        output, hidden = self.rnn(emb, hidden)\n",
        "        output = self.drop(output)\n",
        "        decoded = self.decoder(output)\n",
        "        return decoded, hidden\n",
        "\n",
        "    def init_hidden(self, bsz):\n",
        "        weight = next(self.parameters())\n",
        "        return (weight.new_zeros(self.nlayers, bsz, self.nhid),\n",
        "                weight.new_zeros(self.nlayers, bsz, self.nhid))"
      ],
      "execution_count": 3,
      "outputs": []
    },
    {
      "cell_type": "markdown",
      "metadata": {
        "id": "6eLxjXrxl_Kr"
      },
      "source": [
        "## 2. テキストデータの読み込み\n",
        "\n",
        "同様に、単語言語モデルの[前処理](https://github.com/pytorch/examples/blob/master/word_language_model/data.py)に従い、[Wikitext-2 データセット](https://www.google.com/search?q=wikitext+2+data)を`Corpus`に読み込みます。"
      ]
    },
    {
      "cell_type": "code",
      "metadata": {
        "id": "zKpcrqxu-GWL"
      },
      "source": [
        "# 日本語訳版追加　Wikitext-2データセットのダウンロード\n",
        "import urllib.request\n",
        "import zipfile\n",
        "import os\n",
        "\n",
        "new_dir_path = \"/content/data/wikitext-2\"\n",
        "os.makedirs(new_dir_path, exist_ok=True)\n",
        "\n",
        "# ダウンロード\n",
        "for item in [\"train.txt\", \"valid.txt\", \"test.txt\"]:\n",
        "    url = \"https://github.com/pytorch/examples/tree/master/word_language_model/data/wikitext-2/\"+item\n",
        "    save_path = \"/content/data/wikitext-2/\"+item\n",
        "    urllib.request.urlretrieve(url, save_path)\n",
        "\n",
        "# 以下のモデルはこのチュートリアルとは、モデルサイズが異なる・・・\n",
        "#url =\"https://s3.amazonaws.com/pytorch-tutorial-assets/word_language_model_quantize.pth\"\n",
        "#save_path = \"/content/data/word_language_model_quantize.pth\"\n",
        "#urllib.request.urlretrieve(url, save_path)\n"
      ],
      "execution_count": 4,
      "outputs": []
    },
    {
      "cell_type": "code",
      "metadata": {
        "id": "HkKieqi0l_Kr"
      },
      "source": [
        "class Dictionary(object):\n",
        "    def __init__(self):\n",
        "        self.word2idx = {}\n",
        "        self.idx2word = []\n",
        "\n",
        "    def add_word(self, word):\n",
        "        if word not in self.word2idx:\n",
        "            self.idx2word.append(word)\n",
        "            self.word2idx[word] = len(self.idx2word) - 1\n",
        "        return self.word2idx[word]\n",
        "\n",
        "    def __len__(self):\n",
        "        return len(self.idx2word)\n",
        "\n",
        "\n",
        "class Corpus(object):\n",
        "    def __init__(self, path):\n",
        "        self.dictionary = Dictionary()\n",
        "        self.train = self.tokenize(os.path.join(path, 'train.txt'))\n",
        "        self.valid = self.tokenize(os.path.join(path, 'valid.txt'))\n",
        "        self.test = self.tokenize(os.path.join(path, 'test.txt'))\n",
        "\n",
        "    def tokenize(self, path):\n",
        "        \"\"\"テキストファイルのトークン化\"\"\"\n",
        "        assert os.path.exists(path)\n",
        "        # 辞書に単語を追加\n",
        "        with open(path, 'r', encoding=\"utf8\") as f:\n",
        "            for line in f:\n",
        "                words = line.split() + ['<eos>']\n",
        "                for word in words:\n",
        "                    self.dictionary.add_word(word)\n",
        "\n",
        "        # ファイルの内容をトークン化\n",
        "        with open(path, 'r', encoding=\"utf8\") as f:\n",
        "            idss = []\n",
        "            for line in f:\n",
        "                words = line.split() + ['<eos>']\n",
        "                ids = []\n",
        "                for word in words:\n",
        "                    ids.append(self.dictionary.word2idx[word])\n",
        "                idss.append(torch.tensor(ids).type(torch.int64))\n",
        "            ids = torch.cat(idss)\n",
        "\n",
        "        return ids\n",
        "\n",
        "#model_data_filepath = 'data/'\n",
        "model_data_filepath = '/content/data/'  # 日本語訳版変更、GoogleClabで実行できるパスに \n",
        "\n",
        "corpus = Corpus(model_data_filepath + 'wikitext-2')"
      ],
      "execution_count": 5,
      "outputs": []
    },
    {
      "cell_type": "markdown",
      "metadata": {
        "id": "V2rDdsmjl_Ks"
      },
      "source": [
        "## 3. 事前訓練済みモデルの読み込み\n",
        "\n",
        "本チュートリアルでは動的量子化について扱いますが、量子化のテクニックはモデルの訓練が完了したあとに適用します。\n",
        "\n",
        "そのため、まずは単に事前訓練済みの重みをモデルの構造に読み込みます。\n",
        "\n",
        "なお、使用する重みは単語言語モデルの例のデフォルトの設定を使って、5エポックにわたり訓練して求めた値です。"
      ]
    },
    {
      "cell_type": "code",
      "metadata": {
        "id": "HeIGWUhJl_Kt",
        "colab": {
          "base_uri": "https://localhost:8080/"
        },
        "outputId": "23a40ed6-858f-4923-c03b-f45a7928a2d4"
      },
      "source": [
        "ntokens = len(corpus.dictionary)\n",
        "\n",
        "model = LSTMModel(\n",
        "    ntoken = ntokens,\n",
        "    ninp = 512,\n",
        "    nhid = 256,\n",
        "    nlayers = 5,\n",
        ")\n",
        "\n",
        "# 日本語訳版変更　今回は訓練済みデータの読み込みはなしにする。該当ファイルが見つからない・・・\n",
        "#model.load_state_dict(\n",
        "#    torch.load(\n",
        "#        model_data_filepath + 'word_language_model_quantize.pth',\n",
        "#        map_location=torch.device('cpu')\n",
        "#        )\n",
        "#    )\n",
        "\n",
        "model.eval()\n",
        "print(model)"
      ],
      "execution_count": 6,
      "outputs": [
        {
          "output_type": "stream",
          "name": "stdout",
          "text": [
            "LSTMModel(\n",
            "  (drop): Dropout(p=0.5, inplace=False)\n",
            "  (encoder): Embedding(2706, 512)\n",
            "  (rnn): LSTM(512, 256, num_layers=5, dropout=0.5)\n",
            "  (decoder): Linear(in_features=256, out_features=2706, bias=True)\n",
            ")\n"
          ]
        }
      ]
    },
    {
      "cell_type": "markdown",
      "metadata": {
        "id": "JuWWQntll_Kt"
      },
      "source": [
        "前と同じように[こちら](https://github.com/pytorch/examples/blob/master/word_language_model/generate.py)を参考にして文章を生成し、訓練済みモデルが適切に動作することを確かめます。"
      ]
    },
    {
      "cell_type": "code",
      "metadata": {
        "id": "Bk9PaRXfl_Ku",
        "colab": {
          "base_uri": "https://localhost:8080/"
        },
        "outputId": "e06b7bba-2409-49b2-897e-05b977fccb59"
      },
      "source": [
        "input_ = torch.randint(ntokens, (1, 1), dtype=torch.long)\n",
        "hidden = model.init_hidden(1)\n",
        "temperature = 1.0\n",
        "num_words = 1000\n",
        "\n",
        "with open(model_data_filepath + 'out.txt', 'w') as outf:\n",
        "    with torch.no_grad():  # 勾配のトラッキングを無効化\n",
        "        for i in range(num_words):\n",
        "            output, hidden = model(input_, hidden)\n",
        "            word_weights = output.squeeze().div(temperature).exp().cpu()\n",
        "            word_idx = torch.multinomial(word_weights, 1)[0]\n",
        "            input_.fill_(word_idx)\n",
        "\n",
        "            word = corpus.dictionary.idx2word[word_idx]\n",
        "\n",
        "            outf.write(str(word.encode('utf-8')) + ('\\n' if i % 20 == 19 else ' '))\n",
        "\n",
        "            if i % 100 == 0:\n",
        "                print('| Generated {}/{} words'.format(i, 1000))\n",
        "\n",
        "with open(model_data_filepath + 'out.txt', 'r') as outf:\n",
        "    all_output = outf.read()\n",
        "    print(all_output)"
      ],
      "execution_count": 7,
      "outputs": [
        {
          "output_type": "stream",
          "name": "stdout",
          "text": [
            "| Generated 0/1000 words\n",
            "| Generated 100/1000 words\n",
            "| Generated 200/1000 words\n",
            "| Generated 300/1000 words\n",
            "| Generated 400/1000 words\n",
            "| Generated 500/1000 words\n",
            "| Generated 600/1000 words\n",
            "| Generated 700/1000 words\n",
            "| Generated 800/1000 words\n",
            "| Generated 900/1000 words\n",
            "b'1.07' b'class=\"Box-title\">' b'progress-pjax-loader-bar\"></span>' b'data-url=\"https://github.com/pytorch/examples/issues/264\"' b'action' b'time</span>' b'12.25v3.25a.25.25' b'&quot;20456699683&quot;,' b'class=\"js-details-target' b'type-text' b'&quot;submit.repository_imports.create&quot;},' b'class=\"Box-btn-octicon' b'data-module-id=\"./chunk-codemirror.js\"' b'px-2' b'0L1.698' b'data-close-dialog=\"\"' b'accept-charset=\"UTF-8\"' b'id=\"issues-tab\"' b'&quot;click.view_account_billing_page&quot;},' b'href=\"https://github.com/pytorch/examples/blob/master/word_language_model/data/wikitext-2/valid.txt\"'\n",
            "b'class=\"hx_page-header-bg' b'py-2' b'flash-warn' b'class=\"mt-0' b'href=\"https://docs.github.com\">Docs</a></li>' b'id=\"ref-list-branches\"' b'.25zm0' b'data-menu-item=\"i4projects-tab\"' b'&quot;20086636658&quot;,' b'16\"' b'class=\"anim-rotate\">' b'&quot;20467868331&quot;,' b'</input-demux>' b'14' b'&quot;accountId&quot;:' b'1.87.87' b'id=\"ajax-error-message\"' b'Sales\">Contact' b'p-2\"' b'mb-lg-0\">'\n",
            "b'3a2.25' b'examples' b'data-pjax-transient=\"true\"/>' b'button&quot;,&quot;repository_id&quot;:66424871,&quot;auth_type&quot;:&quot;LOG_IN&quot;,&quot;originating_url&quot;:&quot;https://github.com/pytorch/examples/blob/master/word_language_model/data/wikitext-2/test.txt&quot;,&quot;user_id&quot;:null}}\"' b'name=\"analytics-location\"' b'002' b'height-fit' b'Lab' b'pr-md-4' b'class=\"js-site-favicon\"' b'1.75a.25.25' b'rel=\"stylesheet\"' b'class=\"SelectMenu-list\"' b'Why' b'preload>' b'{&quot;experimentIds&quot;:' b'8.05' b'mt-3' b'class=\"avatar' b'text-bold\"><span'\n",
            "b'name=\"twitter:card\"' b'results</span>' b'Insights' b'href=\"https://www.githubstatus.com/\"' b'&quot;layerId&quot;:' b'3.04a.75.75' b'class=\"my-3' b'none;\"' b'<li>' b'spellcheck=\"false\"' b'js-site-search-field' b'content=\"f52117b3c436077ccf48d7b0782dac9ba633e40d1b3121a06282c314eecc6318\"' b'data-tab-item=\"i1issues-tab\"' b'name=\"apple-itunes-app\"' b'flex-md-order-none' b'&quot;is_logged_in&quot;},' b'&quot;no_metric.tracked_outside_of_optimizely&quot;},' b'octicon-code' b'name-with-owner=\"cHl0b3JjaC9leGFtcGxlcw==\"' b'Star'\n",
            "b'integrity=\"sha512-arflMFcVzVAYaP2n7m7gklPChWsVsCDtRPav2Cb6bqLeJf8pgbojWJ3EseKXILCIqfxl/v6arBduZ9SLmpMEZw==\"' b'border-top' b'header-search-key-slash\"><path' b'&quot;trafficAllocation&quot;:' b'href=\"/pytorch/examples/blob/master/word_language_model/data/wikitext-2/train.txt?raw=true\">View' b'2.555A1.518' b'4.192a.75.75' b'flex-justify-end' b'10.25v-7.5A1.75' b'flex-self-center' b'data-module-id=\"./chunk-pulse-authors-graph-element.js\"' b'0C3.58' b'rel=\"stylesheet\"' b'mr-lg-3\">' b'loader-error\">Cannot' b'5.784' b'2.12.51.56.82' b'Wikis' b'data-pjax-transient>' b'class=\"flex-auto\">Go'\n",
            "b'tabindex=\"-1\"' b'scoped-search' b'&quot;submit.organization_profile.update&quot;},' b'8.566' b'&quot;20152062109&quot;,' b'class=\"SelectMenu-message\">Nothing' b'property=\"og:title\"' b'd=\"M1' b'<ul>' b'name=\"type\"' b'7.59.4.07.55-.17.55-.38' b'8.5H6a1' b'id=\"context-commitish-filter-field\"' b'Bump-link--hover\">Issues' b'privacy&quot;,&quot;label&quot;:&quot;text:privacy&quot;,&quot;originating_url&quot;:&quot;https://github.com/pytorch/examples/blob/master/word_language_model/data/wikitext-2/valid.txt&quot;,&quot;user_id&quot;:null}}\"' b'js-jump-to-line-field\"' b'var(--color-icon-primary);\"' b'hx_rsm-dialog' b'</details-dialog>' b'href=\"\"'\n",
            "b'14.25V1.75A1.75' b'datetime=\"2017-12-05T08:42:15Z\"' b'data-item-type=\"global_search\">' b'class=\"d-block' b'01.25.25V3h-3V1.75zm4.5' b'href=\"/Smerity\">Smerity</a>' b'&quot;completed_all_tasks&quot;},' b'&quot;click.recommended_plan_in_signup.team&quot;},' b'role=\"img\"' b'1a.75.75' b'1.7.75.75' b'aria-hidden=\"true\">T</span>' b'aria-selected=\"true\">Branches</button>' b'&quot;18210945499&quot;,' b'003' b'class=\"ajax-error-message' b'0v2.947c0' b'&quot;submit.repository_imports.create&quot;},' b'data-close-dialog>' b'vector-effect=\"non-scaling-stroke\"'\n",
            "b'octicon-project' b'5.784' b'integrity=\"sha512-aiqMIGGZGo8AQMjcoImKPMTsZVVRl6htCSY7BpRmpGPG/AF+Wq+P/Oj/dthWQOIk9cCNMPEas7O2zAR6oqn0tA==\"' b'006' b'.67-.21' b'data-target=\"ref-selector.noMatchTemplate\">' b'&quot;click.empty_org_repo_cta.create_repository&quot;},' b'3.5a2' b'data-src=\"https://github.githubassets.com/assets/chunk-edit-12ba9916.js\"></script>' b'class=\"inline-form\"' b'mr-lg-0\"><a' b'p-0' b'data-menu-item=\"i3actions-tab\"' b'Sign' b'href=\"https://github.githubassets.com/assets/behaviors-5639a8215908a2b44d8063ecd6495814.css\"' b'<head>' b'hx_rsm-modal\">' b'content=\"collector.githubapp.com\"' b'd-md-block\"' b'no-wrap'\n",
            "b'xmlns=\"http://www.w3.org/2000/svg\"' b'in,' b'2.29' b'href=\"/sponsors\"' b'data-src=\"https://github.githubassets.com/assets/chunk-tip-f2ab533a.js\"></script>' b'15.7a.25.25' b'class=\"Box-header' b'plans\">Compare' b'3.48V7c0' b'repo_commits' b'users' b'href=\"/login?return_to=https%3A%2F%2Fgithub.com%2Fpytorch%2Fexamples%2Fblob%2Fmaster%2Fword_language_model%2Fdata%2Fwikitext-2%2Fvalid.txt\"' b'time.' b'pr-md-4' b'aria-label=\"possible' b'1.5z\"></path>' b'class=\"Bump-link-symbol' b'008' b'data-tab-item=\"i5wiki-tab\"' b'flex-items-center\"'\n",
            "b'load' b'0zM8' b'aria-hidden=\"false\"' b'open' b'href=\"https://enterprise.github.com/contact\"' b'data-ga-click=\"Footer,' b'mb-0' b'011' b'00-.174.238V7c0' b'01-.427.177L7.177' b'color-text-success' b'&quot;20522524291&quot;,' b'00-.174.238V7c0' b'006' b'integrity=\"sha512-qQqGl9V1OlhqcrXFRF4bxtQv57rfhbmPAO9uLAXvYAJSYQ3iv8EbgGTr2qwQKlW3mS4Y/G0Wb33nqIBPGnI4UQ==\"' b'forked' b'16h12.5A1.75' b'&quot;18211063248&quot;,' b'7h12.5a.75.75' b'src=\"https://github.githubassets.com/assets/repositories-a71dcae3.js\"></script>'\n",
            "b'8l3.22' b'data-test-selector=\"nav-search-input\"' b'class=\"SelectMenu\">' b'4.78a.75.75' b'octicon-repo-forked\">' b'about' b'overflow-hidden' b'we' b'&quot;production&quot;,' b'1.741-1.576l.66-6.6a.75.75' b'005.003' b'js-details-container\">' b'd-inline-block' b'data-module-id=\"./chunk-invitations.js\"' b'preload>' b'flex-justify-center' b'token_scanning' b'name=\"enabled-features\"' b'a' b'1h4.253c1.227'\n",
            "b'none;' b'</textarea></xmp>' b'btn' b'title=\"Search\"' b'href=\"/pytorch/examples\">' b'community' b'001.985-1.75c.017-.137-.097-.25-.235-.25h-3.5c-.138' b'&quot;17143601254&quot;,' b'&quot;872&quot;}\"' b'privacy&quot;,&quot;label&quot;:&quot;text:privacy&quot;,&quot;originating_url&quot;:&quot;https://github.com/pytorch/examples/blob/master/word_language_model/data/wikitext-2/test.txt&quot;,&quot;user_id&quot;:null}}\"' b'privacy&quot;,&quot;label&quot;:&quot;text:privacy&quot;,&quot;originating_url&quot;:&quot;https://github.com/pytorch/examples/blob/master/word_language_model/data/wikitext-2/train.txt&quot;,&quot;user_id&quot;:null}}\"' b'js-details-container\">' b'js-jump-to-suggestions-results-container\">' b'property=\"og:title\"' b'class=\"social-count' b'rounded-2' b'mr-2' b'data-hydro-click=\"{&quot;event_type&quot;:&quot;authentication.click&quot;,&quot;payload&quot;:{&quot;location_in_page&quot;:&quot;star' b'aria-hidden=\"true\">T</span>' b'class=\"SelectMenu-header\">'\n",
            "b'data-src=\"https://github.githubassets.com/assets/chunk-stacked-area-chart-b5e89fac.js\"></script>' b'href=\"/pytorch/examples/raw/master/word_language_model/data/wikitext-2/valid.txt\">' b'&quot;20175462351&quot;,' b'icon:logo-wordmark\">' b'pr-3' b'class=\"Header-old' b'class=\"hx_page-header-bg' b'the' b'data-hydro-click-hmac=\"649cdb2116033222ac2243a9d4ea9212309524bec7526d2fd0abd7e89a0fc06e\">Training</a></li>' b'flash' b'Desktop\"' b'href=\"/pytorch/examples/wiki\"' b'7.324l.004-5.073-.002-2.253A2.25' b'tabindex=\"0\">' b'.27' b'Learning,' b'00-2.56-3.012A3' b'data-selected-links=\"repo_issues' b'up' b'all'\n",
            "b'id=\"responsive-meta-container\"' b'</button>' b'details-overlay-dark\"' b'16' b'&quot;production&quot;,' b'avatar-user' b'&quot;recommended_plan&quot;},' b'default-branch=\"bWFzdGVy\"' b'&quot;trafficAllocation&quot;:' b'&quot;control&quot;},' b'text:sign-in\">' b'href=\"/pytorch/examples/issues\">' b'JS' b'data-content=\"Security\">Security</span>' b'href=\"https://docs.github.com\"' b'api&quot;,&quot;label&quot;:&quot;text:api&quot;,&quot;originating_url&quot;:&quot;https://github.com/pytorch/examples/blob/master/word_language_model/data/wikitext-2/valid.txt&quot;,&quot;user_id&quot;:null}}\"' b'&quot;20091648988&quot;,' b'data-hotkey=\"g' b'10000}],' b'title=\"76\"'\n",
            "b'class=\"logged-out' b'/pytorch/examples/wiki\"' b'Sales\">Contact' b'integrity=\"sha512-ErqZFlIt7zIbLoZHvwfq9Zjo5zo+Y1A410nePDGvK+WVTVP10iNTfoqdOOSZNSy1gtLKIWDIIiOV30lr6zUJCA==\"' b'property=\"og:image:alt\"' b'<script' b'out&quot;,&quot;originating_url&quot;:&quot;https://github.com/pytorch/examples/blob/master/word_language_model/data/wikitext-2/valid.txt&quot;,&quot;user_id&quot;:null}}\"' b'href=\"/team\"' b'mr-lg-3' b'2.122a2.25' b'js-details-dialog-spinner\"></div>' b'0V5.372A2.25' b'15H1.918a1.75' b'data-hydro-click-hmac=\"76b7c25dd2664b06d75f171135f32ce5ea981f3e0bff9627b3d956fb0e6d58e8\">Status</a></li>' b'<p>(Sorry' b'<h3' b'&quot;click.upgrade_to_enterprise&quot;},' b'class=\"flex-auto\">Go' b'src=\"https://github.githubassets.com/assets/repositories-a71dcae3.js\"></script>' b'data-src=\"https://github.githubassets.com/assets/chunk-user-status-submit-b5f0e8be.js\"></script>'\n",
            "b'.67-.21' b'id=\"repository-container-header\"' b'path' b'flex-justify-between' b'aria-label=\"Dismiss' b'src=\"/pytorch/examples/contributors-list/master/word_language_model/data/wikitext-2/test.txt\"' b'1v5.628a2.251' b'class=\"px-2' b'pt-2' b'{{' b'011.06-1.06L6' b'0-.19-.01-.82-.01-1.49-2.01.37-2.53-.49-2.69-.94-.09-.23-.48-.94-.82-1.13-.28-.15-.68-.52-.01-.53.63-.01' b'00-.174.238V7c0' b'content</a>' b'10.94l6.72-6.72a.75.75' b'id=\"repo-content-pjax-container\"' b'1.1.16' b'&quot;18831680583&quot;,' b'rel=\"fluid-icon\"' b'class=\"flex-shrink-0'\n",
            "b'type=\"application/javascript\"' b'Bump-link--hover\">Integrations' b'data-module-id=\"./chunk-drag-drop.js\"' b'&quot;20467848595&quot;,' b'api&quot;,&quot;label&quot;:&quot;text:api&quot;,&quot;originating_url&quot;:&quot;https://github.com/pytorch/examples/blob/master/word_language_model/data/wikitext-2/valid.txt&quot;,&quot;user_id&quot;:null}}\"' b'<a' b'data-src=\"https://github.githubassets.com/assets/chunk-contributions-spider-graph-3f6f54d2.js\"></script>' b'content=\"9BDE:CDC2:18174F3:19E843E:613D8AAA\"' b'class=\"Popover' b'js-jump-to-suggestion-name' b'aria-label=\"Site\"' b'title=\"Search\"' b'query-endpoint=\"/pytorch/examples/refs\"' b'data-hydro-click-hmac=\"32168eddb3add81898d0a48277333fc0b95354840678dd491e0a01e862b7b8e7\"' b'fn\"' b'data-module-id=\"./chunk-tip.js\"' b'Copy' b'data-src=\"https://github.githubassets.com/assets/chunk-invitations-0e2f78c9.js\"></script>' b'name=\"google-site-verification\"' b'<div>{{'\n",
            "b'data-hydro-click-hmac=\"5e4672d4462fc65debbd721eed134ab0c0f75c62f2407698df8a0b4969cae546\">Pricing</a></li>' b'page-blob\"' b'class=\"social-count' b'2.372a.75.75' b'13H2.518a1.518' b'name=\"octolytics-dimension-user_login\"' b'data-hydro-click-hmac=\"876fe7a42e9a26fb438a7d4337643d5323be95245a7e44fb83f591dca38ac8b2\">Terms</a></li>' b'href=\"https://github.com/pytorch/examples/blob/{{' b'px-lg-5\">' b'repo_deployments' b'class=\"js-pjax-capture-input' b'data-close-dialog=\"\"' b'data-module-id=\"./chunk-color-modes.js\"' b'float-right\"' b'11-1.482.235' b'integrity=\"sha512-nKa3UdA2O7Ve4Jn24gaB20yUfJvS7wlnd8Q8C+iWD8i2tXLgaKemDWkLeexeQdrs+an98FCl5fOiy0J+izn+tQ==\"' b'data-hovercard-url=\"/pytorch/examples/issues/264/hovercard\"' b'data-hydro-click-hmac=\"360adda7f3955d8666909fa1d416fe34e6a5c3bfe5bf049d6b654e1891ed101f\">Terms</a></li>' b'class=\"mr-4\"' b'hide-full-screen'\n",
            "b'data-ga-click=\"(Logged' b'aria-label=\"Homepage\"' b'</summary>' b'd-inline-block\">' b'correct' b'7a4.499' b'013.102' b'data-src=\"https://github.githubassets.com/assets/chunk-filter-input-87c2d1a8.js\"></script>' b'repo_packages' b'rel=\"alternate' b'6.675a.75.75' b'name=\"authenticity_token\"' b'details' b'00-.752-1.298A1.75' b'7.59.4.07.55-.17.55-.38' b'data-tab-item=\"i0code-tab\"' b'accept=\"text/fragment+html\"></include-fragment>' b'[{&quot;status&quot;:' b'&quot;click.create_organization_free&quot;},' b'</clipboard-copy>'\n",
            "b'raw</a>' b'property=\"og:url\"' b'data-hydro-click-hmac=\"7891463662c66fb686d4be9ddf957e0dad888e127066569b0ae84a7379ad6d5a\"' b'&quot;submit.verify_primary_user_email&quot;},' b'class=\"form-control' b'0L8' b'outline:' b'<path' b'00.154' b'else' b'3.75-3.65' b'Link--secondary\"' b'flex-justify-between' b'&quot;20091648988&quot;,' b'out)' b'data-hovercard-url=\"/orgs/pytorch/hovercard\"' b'flex-self-start\">default</span>' b'type=\"application/opensearchdescription+xml\"' b'id=\"issues-tab\"' b'1.93-.01'\n",
            "b'id=\"wiki-tab\"' b'<footer' b'selected\">' b'&quot;click.classroom_create_classroom&quot;},' b'3-3' b'href=\"https://github.com/pricing\"' b'&quot;name&quot;:' b'class=\"Link--primary\">' b'data-close-dialog=\"\"' b'aria-label=\"Close' b'd-inline-block' b'css-truncate-target' b'd-md-none\">' b'Sponsors\">GitHub' b'who' b'&quot;20528555359&quot;,' b'id=\"blob-path\"' b'<path' b'html>' b'name=\"twitter:title\"'\n",
            "b'message' b'data-module-id=\"./chunk-ref-selector.js\"' b'menu' b'content=\"E63E:1335A:AC66EA:B47DB7:613D8AAB\"' b'octicon-x' b'd=\"M1.643' b'To' b'type=\"image/svg+xml\"' b'file' b'flash' b'01.666' b'2.162' b'show</div>' b'2.317.59' b'1.06l-7.25' b'<h3' b'flex-md-nowrap' b'<path' b'href=\"/pytorch/examples/blob/cedca7729fef11c91e28099a0e45d7e98d03b66d/word_language_model/data/wikitext-2/train.txt\">Permalink</a>' b'js-clipboard-check-icon'\n",
            "b'py-4' b'repo_milestones' b'data-pjax-transient=\"true\"/><meta' b'Open' b'id=\"site-details-dialog\">' b'details-overlay-dark' b'integrity=\"sha512-NefnY8O7CG7NvgTQOUD9T6bwbNxg9zNYTFW1Tkin6RHuUTZvv7S4Vr91TAtVhBYcyfFsUz6ptnpMxRPtAT48tw==\"' b'property=\"og:url\"' b'height=\"32\"' b'form-control\"' b'rel=\"nofollow\"' b'href=\"/pytorch/examples/commit/d5678bc8ac0cdd79dbd5e44d4130271018bcec4e\">)</a>' b'flex-md-order-none' b'content=\"https://api.github.com/_private/browser/errors\">' b'octicon-history\">' b'hide-sm' b'text:about\"' b'href=\"/pytorch/examples/security\"' b'data-hydro-click-hmac=\"368171329a7de9da7f7e9a0962b7cc1d7c8319f158c48593b70108f9818a3cc4\">Privacy</a></li>' b'<div'\n",
            "b'integrity=\"sha512-VjmoIVkIorRNgGPs1klYFAYV5mSSLzTERqXmWImEO52Exp3M75VkzOoEIZmmVWHUvzUfXjXmYFVTnotxU0e3Ww==\"' b'data-src=\"https://github.githubassets.com/assets/chunk-webgl-warp-70abbff9.js\"></script>' b'&quot;4&quot;,' b'aria-expanded=\"false\"' b'd=\"M0' b'content=\"collector.githubapp.com\"' b'tabindex=\"\">' b'go' b'octicon-repo' b'0L1.698' b'data-target=\"input-demux.source\"' b'class=\"logged-out' b'data-module-id=\"./chunk-three.module.js\"' b'01-1.543-2.575L6.457' b'2.813-5.032' b'href=\"/login?return_to=https%3A%2F%2Fgithub.com%2Fpytorch%2Fexamples%2Fblob%2Fmaster%2Fword_language_model%2Fdata%2Fwikitext-2%2Ftrain.txt\"' b'3.48V7c0' b'clicked' b'\\\\&quot;exact\\\\&quot;,' b'0zm-.25-5.75a.75.75'\n",
            "b'type-text' b'integrity=\"sha512-9AqTNQE0sCN9/up20zvfdcNtJ6FYVuqGPT6jpfV8Rv5SRaSXr7HxrGC0XEXcZ0avlCfuYJN0BjXK7ZT90YV0Jg==\"' b'class=\"mt-0' b'isNotDefault' b'data-module-id=\"./chunk-drag-drop.js\"' b'class=\"dropdown-menu' b'0v-3z\"></path>' b'action=\"/pytorch/examples/delete/master/word_language_model/data/wikitext-2/valid.txt\"' b'community' b'type=\"branch\"' b'&quot;click.issue_actions_prompt.setup_workflow&quot;},' b'color-text-primary' b'style=\"word-wrap:' b'aria-haspopup=\"listbox\"' b'class=\"f6' b'00-.75-.75zm-8.25.75a.75.75' b'pytorch' b'01.75.75v10.5a.75.75' b'api&quot;,&quot;label&quot;:&quot;text:api&quot;,&quot;originating_url&quot;:&quot;https://github.com/pytorch/examples/blob/master/word_language_model/data/wikitext-2/train.txt&quot;,&quot;user_id&quot;:null}}\"' b'name=\"color-scheme\"'\n",
            "b'stroke-opacity=\"0.25\"' b'content=\"ea57d73f6e6dc810094f3d0d4c19b2436d33cd11f7941872aaf6815e40ddcae0\">' b'id=\"repository-container-header\"' b'rel=\"mask-icon\"' b'4.74a6' b'5' b'3z\"></path></svg>' b'left-lg-n4\">' b'Insights' b'4.084.75.75' b'js-ajax-error-dismiss\"' b'data-hydro-click-hmac=\"40bc5e41aeaf944b9eaf6168a2d90fee879d81ec3e3f69e28adbc95bb3229334\"' b'0v5.5a.75.75' b'&quot;click.signup_continue.create_account&quot;},' b'flex-md-order-2' b'stroke=\"#979A9C\"' b'this' b'role=\"combobox\"' b'class=\"edge-item-fix\"><a' b'class=\"js-site-search-form\"'\n",
            "b'2.122a2.25' b'01-.249.225h-5.19a.25.25' b'flex-wrap\"' b'&quot;test_event.do_not_use_in_production&quot;},' b'href=\"https://github.com/security\">Security</a></li>' b'that,' b'fill=\"#979A9C\"' b'&quot;20595070227&quot;,' b'href=\"/features/packages\"' b'integrity=\"sha512-SVdK0K69PnQ4FChdpl650OR+vplYWXqddxNkEGKhQf6tkehqvKkFEg5LQSZgCVKt2tfc9CnWJlmKCwbTTipEjg==\"' b'another' b'data-module-id=\"./chunk-ref-selector.js\"' b'2.445L6.615' b'0V3h2.25a.75.75' b'urlEncodedRefName' b'clicked' b'aria-hidden=\"true\">L</span>' b'href=\"https://docs.github.com/en/github/site-policy/github-privacy-statement\"' b'data-hydro-click-hmac=\"649cdb2116033222ac2243a9d4ea9212309524bec7526d2fd0abd7e89a0fc06e\">Training</a></li>' b'11.378A1.75'\n",
            "b'content=\"github\"' b'href=\"/enterprise\"' b'value=\"repo_source\"' b'005.75' b'position-lg-relative' b'10.3' b'2.445L6.615' b'bottom-0' b'integrity=\"sha512-px3K4wquirAWQqqP2kNruWJ+phObb878Wczl5waTBAfDU2HTyXt3SDTLOIFu+gnSfI6bEthx2xglWFRZXPIl8g==\"' b'\\\\&quot;$opt_dummy_attribute\\\\&quot;,' b'&quot;submit.verify_primary_user_email&quot;},' b'class=\"color-text-secondary\">No' b'training&quot;,&quot;label&quot;:&quot;text:training&quot;,&quot;originating_url&quot;:&quot;https://github.com/pytorch/examples/blob/master/word_language_model/data/wikitext-2/train.txt&quot;,&quot;user_id&quot;:null}}\"' b'content=\"04d78f07577998c34edd08b407dd8e92d9283766858008e0704cdfde97715f80\">' b'01-1.33' b'aria-controls=\"jump-to-results\"' b'1.194' b'&quot;click.issue_actions_prompt.setup_workflow&quot;},' b'octicon-project' b'tooltipped-no-delay\"'\n",
            "b'd-md-inline\">' b'that,' b'5v2.947c0' b'&quot;20103637615&quot;,' b'&quot;click.contact_sales&quot;},' b'0V3h2.25a.75.75' b'01.25-.25zM14.25' b'blog&quot;,&quot;label&quot;:&quot;text:blog&quot;,&quot;originating_url&quot;:&quot;https://github.com/pytorch/examples/blob/master/word_language_model/data/wikitext-2/valid.txt&quot;,&quot;user_id&quot;:null}}\"' b'class=\"progress-pjax-loader' b'<strong' b'01-.564.41l-3.097.45' b'Education\">GitHub' b'1.047zM9' b'data-content=\"Projects\">Projects</span>' b'integrity=\"sha512-px3K4wquirAWQqqP2kNruWJ+phObb878Wczl5waTBAfDU2HTyXt3SDTLOIFu+gnSfI6bEthx2xglWFRZXPIl8g==\"' b'style=\"padding:' b'Explore\">Explore' b'private\"' b'0016' b'Code'\n",
            "b'class=\"ml-2\">' b'4.22a.75.75' b'1.456-.53-3.084a.75.75' b'xmlns=\"http://www.w3.org/2000/svg\"' b'8.25v-3.5A.75.75' b'right-0\">' b'}}/word_language_model/data/wikitext-2/train.txt\"' b'0l-5.25' b'&quot;19424193129&quot;,' b'data-src=\"https://github.githubassets.com/assets/chunk-toast-58af155f.js\"></script>' b'data-src=\"https://github.githubassets.com/assets/chunk-emoji-picker-element-6a2a8c20.js\"></script>' b'tab-selected:ref-selector#tabSelected' b'2.694v.001z\"></path>' b'dialog\"></summary>' b'1.53-1.04' b'1.92.08' b'href=\"/pytorch/examples/commit/d5678bc8ac0cdd79dbd5e44d4130271018bcec4e\">)</a>' b'up&quot;,&quot;action&quot;:&quot;click' b'0c-2.447-1.042-4.049-2.357-5.032-3.855C1.32' b'8.013'\n",
            "b'\\xc2\\xb7' b'data-tab-item=\"i2pull-requests-tab\"' b'010' b'Box' b'24\"' b'2.666' b'&quot;geo&quot;},' b'&quot;20467848595&quot;,' b'&quot;18591323364&quot;,' b'00-.416.672v.352a.75.75' b'.25a.75.75' b'0L3.22' b'&quot;variations&quot;:' b'&quot;click.open_account_switcher&quot;},' b'</ref-selector>' b'id=\"start-of-content\"' b'data-hydro-click-hmac=\"fb225d58c21baa3b37db808f114624716da0892ee993956f6f83cb2549e75347\">API</a></li>' b'&quot;click.pricing_calculator.15_members&quot;},' b'00-.75.75v3c0' b'Explore'\n",
            "b'13.06l-5.22' b'4.78a.75.75' b'menu&quot;,&quot;repository_id&quot;:null,&quot;auth_type&quot;:&quot;SIGN_UP&quot;,&quot;originating_url&quot;:&quot;https://github.com/pytorch/examples/blob/master/word_language_model/data/wikitext-2/valid.txt&quot;,&quot;user_id&quot;:null}}\"' b'data-module-id=\"./chunk-stacks-progress-view.js\"' b'change' b'001.06' b'pytorch/examples\">' b'10.3' b'01-.25.25H1.75a.25.25' b'&quot;20120044111&quot;,' b'details' b'&quot;click.issue_actions_prompt.dismiss_prompt&quot;},' b'10000}],' b'3.073L9.573.677A.25.25' b'</ref-selector>' b'0zM3.75' b'plans' b'src=\"https://avatars.githubusercontent.com/u/5702157?s=48&amp;v=4\"' b'01-1.263-2.36l1.703-2.554A.25.25' b'preload>'\n",
            "b'value=\"RGb1t+ukIlrHISRyZn5VroRrpBIleze/91X7lc32XZe7N/ZQ6JndA7jk15tUhGY8oMCdyxQKLCLqeEbEthgDig==\"' b'data-src=\"https://github.githubassets.com/assets/chunk-drag-drop-ea3fe848.js\"></script>' b'<h3' b'-' b'&quot;18210945499&quot;,' b'js-details-container\">' b'requests' b'position-absolute\"' b'5.442v5.117a.25.25' b'data-module-id=\"./chunk-user-status-submit.js\"' b'css-truncate-target\">' b'data-menu-button>master</span>' b'Popover-message--bottom-left' b'mb-lg-0' b'2.844.75.75' b'&quot;calculator&quot;}],' b'autofocus>' b'flash-warn' b'class=\"pagehead-actions' b'itemtype=\"http://schema.org/SoftwareSourceCode\"'\n",
            "b'</form>' b'mr-2\">' b'octicon-check' b'Bump-link--hover\">Mobile' b'0zM3.75' b'href=\"/mobile\"' b'Users' b'data-pjax-transient=\"true\"/>' b'v-align-text-bottom' b'etc.' b'name=\"type\"' b'path\"' b'1.08.58' b'data-module-id=\"./chunk-tweetsodium.js\"' b'list' b'10-1.06' b'flex-sm-grow-0' b'Compatibility&quot;}],' b'aria-checked=\"{{' b'3.75-3.65'\n",
            "b'</summary>' b'&quot;click.read_doc&quot;},' b'data-error-text=\"Failed' b'px-0' b'&quot;test_event.do_not_use_in_production&quot;},' b'00-1.492-.149l-.66' b'class=\"SelectMenu-footer\"><a' b'd=\"M7.177' b'1.041-.52' b'data-hydro-click-hmac=\"b4321e9a44798df64da48bbb0a75d62337749019175194757f015f3bebf3af40\"' b'class=\"border-bottom' b'data-target=\"input-demux.control\"' b'&quot;18582053415&quot;,' b'class=\"d-inline-block' b'class=\"progress-pjax-loader' b'mb-5' b'style=\"visibility:hidden;\"' b'data-src=\"https://github.githubassets.com/assets/chunk-remote-clipboard-copy-7d8dd863.js\"></script>' b'd=\"M0' b'data-hotkey=\"l\"'\n",
            "b'class=\"hx_page-header-bg' b'1.06L9.06' b'js-chromeless-input-container' b'status&quot;,&quot;label&quot;:&quot;text:status&quot;,&quot;originating_url&quot;:&quot;https://github.com/pytorch/examples/blob/master/word_language_model/data/wikitext-2/train.txt&quot;,&quot;user_id&quot;:null}}\"' b'name=\"octolytics-dimension-user_login\"' b'&quot;revision&quot;:' b'branches</a></footer>' b'&quot;20490791319&quot;,' b'}}\">{{' b'class=\"btn-octicon\"' b'data-pjax-replace>' b'method=\"get\">' b'min-width-0' b'class=\"Box-btn-octicon' b'aria-label=\"16890' b'&quot;submit.organizations.complete_sign_up&quot;},' b'href=\"/pytorch/examples/raw/master/word_language_model/data/wikitext-2/train.txt\">' b'8l-3.72' b'01.25.25V3h-3V1.75zm4.5' b'href=\"https://services.github.com\"'\n",
            "b'color-bg-secondary' b'tooltipped-s' b'js-jump-to-global-search' b'2.666' b'aria-label=\"Site\"' b'tags</a></footer>' b'&quot;20103637615&quot;,' b'&quot;18574203855&quot;,' b'value=\"https://github.com/pytorch/examples/blob/cedca7729fef11c91e28099a0e45d7e98d03b66d/word_language_model/data/wikitext-2/test.txt\"' b'input-entered:ref-selector#inputEntered' b'5.507' b'000' b'integrity=\"sha512-7hZ031ngiF36wGsfcoyyCWTqwYxjX+qeTLtCV7CJ+IO+wzkzCm1RoR3WzWczfWmwLNqr+Hu3kQOgkBaGn4ntWQ==\"' b'http-equiv=\"x-pjax-css-version\"' b'octicon-shield' b'&quot;completed_onboarding_tasks&quot;},' b'-' b'version=\"1.1\"' b'111.5' b'016'\n",
            "b'&quot;20171520319&quot;,' b'1.75zM4.496' b'class=\"SelectMenu-message\">Nothing' b'class=\"Counter\">0</span>' b'integrity=\"sha512-bhezu6Byy77IyhYpoQ0673g8ZoqrBB033b+aJy9z7i24+X7SM/kw44++OQGSRWyzq/kQk68k+nR9HrUcRX8QTg==\"' b'3.073L9.573.677A.25.25' b'000-1.5zm-2.25.75a2.25' b'aria-owns=\"ref-list-branches\"' b'color-text-white' b'data-hotkey=\"y\"' b'content=\"600\"' b'private\"' b'<title>examples/train.txt' b'value=\"6O7rlsEvrvNlgSwiBDRCuYcsdm9nlLYOMtccn+UivLlRcFGJ46sUVb8vEW0D6NYJxnKTSK3+BqaZrPPIbqQfSw==\"' b'd=\"M13.78' b'&quot;completed_onboarding_tasks&quot;},' b'Topics\">Topics' b'{&quot;entityId&quot;:' b'data-controls-ref-menu-id=\"ref-list-branches\"' b'js-jump-to-suggestion-name'\n",
            "b'</h1>' b'jump-to-suggestions-path' b'name=\"enabled-features\"' b'href=\"/topics\"' b'class=\"application-main' b'class=\"js-repo-nav' b'href=\"/pytorch/examples/raw/master/word_language_model/data/wikitext-2/valid.txt\"' b'Desktop\"' b'&quot;click.issue_actions_prompt.dismiss_prompt&quot;},' b'</svg>' b'mb-n1\"' b'style=\"background-color:' b'repo_packages' b'&quot;872&quot;}\"' b'11-1.482.235' b'name=\"twitter:card\"' b'8c0' b'0-.19-.01-.82-.01-1.49-2.01.37-2.53-.49-2.69-.94-.09-.23-.48-.94-.82-1.13-.28-.15-.68-.52-.01-.53.63-.01' b'0110' b'name=\"octolytics-event-url\"'\n",
            "b'2.445L6.615' b'&quot;18252392383&quot;,' b'd-md-none\">' b'1.75h8.5A1.75' b'cx=\"8\"' b'value=\"repo_source\"' b'class=\"Box-btn-octicon' b\"won't\" b'00.4.2l1.45-1.087a.25.25' b'http-equiv=\"x-pjax-version\"' b'01-1.072' b'name=\"html-safe-nonce\"' b'&quot;20227443657&quot;,' b'avatar-user' b'progress-pjax-loader-bar\"></span>' b'security&quot;,&quot;label&quot;:&quot;text:security&quot;,&quot;originating_url&quot;:&quot;https://github.com/pytorch/examples/blob/master/word_language_model/data/wikitext-2/valid.txt&quot;,&quot;user_id&quot;:null}}\"' b'mt-6' b'property=\"og:image:height\"' b'position-relative\">' b'Bump-link--hover\">Packages'\n",
            "b'rel=\"fluid-icon\"' b'<meta' b'&quot;1684648857.1628809053&quot;:' b'content=\"collector.githubapp.com\"' b'<html' b'container-xl' b'Bump-link--hover\">Actions' b'data-toggle-for=\"branch-select-menu\"><svg' b'px-3' b'0v3a.75.75' b'&quot;19520330825&quot;,' b'src=\"https://github.githubassets.com/assets/optimizely-edae2b55.js\"></script>' b'8a7.002' b'pytorch/examples\"' b'button&quot;,&quot;repository_id&quot;:66424871,&quot;auth_type&quot;:&quot;LOG_IN&quot;,&quot;originating_url&quot;:&quot;https://github.com/pytorch/examples/blob/master/word_language_model/data/wikitext-2/valid.txt&quot;,&quot;user_id&quot;:null}}\"' b'type=\"application/javascript\"' b'style=\"visibility:hidden;\"' b'5.22a.75.75' b'data-item-type=\"suggestion\">' b'dropdown-item\"'\n",
            "b'&quot;click.create_organization_free&quot;},' b'1.06L13.94' b'BtnGroup-item\">' b'd-sm-inline\">' b'class=\"mr-4\"' b'data-toggle-for=\"branch-select-menu\"><svg' b'mt-0' b'type=\"button\"' b'href=\"/pytorch/examples/pulls\">' b'data-src=\"https://github.githubassets.com/assets/chunk-runner-groups-496cb7e9.js\"></script>' b'&quot;click.signup_continue.create_account&quot;},' b'0C3.58' b'&quot;submit.organization_activation.complete&quot;},' b'class=\"edge-item-fix\"><a' b'ml-n1' b'd=\"M1.643' b'.67-.21' b'fn\"' b'&quot;click.recommended_plan_in_signup.team&quot;},' b'data-hydro-click-hmac=\"15bec132cc93f2da7a81cde587c326141c7376518bccfd2e5759c220aaa1d4df\"'\n",
            "b'itemprop=\"name\"' b'data-selected-links=\"security' b'review' b'crossOrigin=\"use-credentials\">' b'isFilteringClass' b'js-skip-to-content\">Skip' b'privacy&quot;,&quot;label&quot;:&quot;text:privacy&quot;,&quot;originating_url&quot;:&quot;https://github.com/pytorch/examples/blob/master/word_language_model/data/wikitext-2/test.txt&quot;,&quot;user_id&quot;:null}}\"' b'itemprop=\"dateModified\"><relative-time' b'data-hotkey=\"t\"' b'2.445L6.615' b'value=\"https://github.com/pytorch/examples/blob/cedca7729fef11c91e28099a0e45d7e98d03b66d/word_language_model/data/wikitext-2/train.txt\"' b'up' b'class=\"ClipboardButton' b'style=\"width:360px;\">' b'width-md-auto' b'btn-link\">' b'color-bg-info-inverse' b'6h1z\"></path></svg>' b'href=\"/login?return_to=https%3A%2F%2Fgithub.com%2Fpytorch%2Fexamples%2Fblob%2Fmaster%2Fword_language_model%2Fdata%2Fwikitext-2%2Fvalid.txt\"' b'[&quot;20479227424&quot;],'\n",
            "b'repository' b'out&quot;,&quot;originating_url&quot;:&quot;https://github.com/pytorch/examples/blob/master/word_language_model/data/wikitext-2/valid.txt&quot;,&quot;user_id&quot;:null}}\"' b'pr-3\">&rarr;</span></a>' b'flex-self-stretch\"' b'data-item-type=\"owner_scoped_search\">' b'class=\"header-search' b'01.698' b'6.374a.75.75' b'aria-current=\"page\"' b'href=\"https://github.com/fluidicon.png\"' b'py-3' b'flex-order-2' b'aria-controls=\"jump-to-results\"' b'01-.564.41l-3.097.45' b'd-flex' b'class=\"color-text-tertiary' b'js-navigation-container' b'&quot;19988571001&quot;,' b'0zM8' b'data-module-id=\"./chunk-sortable-behavior.js\"'\n",
            "b'&quot;organization_plan&quot;},' b'&quot;growth_issue_actions_prompt&quot;,' b'3.72' b'href=\"/pytorch/examples/branches\">View' b'href=\"/login?return_to=https%3A%2F%2Fgithub.com%2Fpytorch%2Fexamples%2Fblob%2Fmaster%2Fword_language_model%2Fdata%2Fwikitext-2%2Fvalid.txt\"' b'integrity=\"sha512-BF1fZchtuQCE1TopmDRScOJvPcKHM7jBfIyLaszKOhcEJBF6fdCakk0mizbO15yCMiXk+4VIDTMzgGm96O/JCQ==\"' b'data-hydro-click-hmac=\"e72265309a4da2907b2ddcd343eb22af923ca36624d452fdaaaa77cf9c92ef65\"' b'8.72a.75.75' b'data-src=\"https://github.githubassets.com/assets/chunk-copy-be9b764d.js\"></script>' b'1.68A1.75' b'0l5.25-5.25z\"></path>' b'requests' b'00-.75.75v3c0' b'1.06l-7.25' b'tab-container-changed:input-demux#updateInput\">' b'id=\"issues-tab\"' b'lab\">Learning' b'account&quot;,&quot;label&quot;:&quot;ref_page:/&lt;user-name&gt;/&lt;repo-name&gt;/blob/show;ref_cta:Sign' b'src=\"\"' b'Compare'\n",
            "b'&quot;audienceIds&quot;:' b'href=\"/features/security\"' b'Compatibility&quot;}],' b'pt-3' b'\\'\"`' b'000-1.5zM3.5' b'value=\"E67dQFzbsw86dh4AOUkGccnk9iMUaeNML7DVSC8qDbJN1yd7s2YNW77Nrklz6VWibA35isQHoXmhliObIPxuag==\"' b'aria-expanded=\"false\"' b'commit</span>' b'integrity=\"sha512-px3K4wquirAWQqqP2kNruWJ+phObb878Wczl5waTBAfDU2HTyXt3SDTLOIFu+gnSfI6bEthx2xglWFRZXPIl8g==\"' b'11.216.784' b'href=\"/Smerity\">Smerity</a>' b'<head>' b'Sign&nbsp;up' b'mt-3' b'color-text-white\">' b'style=\"display:' b'3' b'data-pjax=\"#js-repo-pjax-container\"' b'make'\n",
            "b'tooltipped-nw' b'3.086' b'00.565-1.243c-.772-.885-1.193-1.716-1.292-2.757h3.727A1.75' b'8.36' b'&quot;actions_enabled&quot;},' b'004.75' b'src=\"/pytorch/examples/security/overall-count\"' b'/pytorch/examples/pulls\"' b'<meta' b'Backwards' b'&quot;geo&quot;},' b'content=\"21003710\"' b'right' b'js-responsive-underlinenav-overflow' b'homepage,' b'js-jump-to-field' b'urlEncodedRefName' b'/pytorch/examples/security\"' b'12.347l-3.766' b'octicon-graph'\n",
            "b'property=\"og:image\"' b'integrity=\"sha512-BF1fZchtuQCE1TopmDRScOJvPcKHM7jBfIyLaszKOhcEJBF6fdCakk0mizbO15yCMiXk+4VIDTMzgGm96O/JCQ==\"' b'js-details-container' b'Pricing&quot;,&quot;label&quot;:&quot;text:Pricing&quot;,&quot;originating_url&quot;:&quot;https://github.com/pytorch/examples/blob/master/word_language_model/data/wikitext-2/test.txt&quot;,&quot;user_id&quot;:null}}\"' b'0zM3.75' b'value=\"dkOstTTc3bkyMiixeRjcuCZcYUuI6V528uHUWfAXUsIhtS4PNpip/fEVPoKGVenxuqQEy4aL7u1wRIqaZJu3lw==\"' b'right-0\">' b'<nav' b'&quot;actions_enabled&quot;},' b'anim-fade-in' b'max-height' b'Desktop\"' b'\\\\&quot;$opt_dummy_attribute\\\\&quot;,' b'class=\"js-notification-shelf-include-fragment\"' b'about,' b'00.154' b'px-2' b'012' b'isNotDefault' b'data-module-id=\"./chunk-color-modes.js\"'\n",
            "b'itemprop=\"dateModified\"><relative-time' b'class=\"text-small' b'&quot;botFiltering&quot;:' b'class=\"dropdown-item' b'color-border-secondary' b'content=\"BRANCH_PROTECTION_RULE_WEBHOOK,MARKETPLACE_PENDING_INSTALLATIONS\">' b'2h12.5a.75.75' b'2.2-.82' b'js-header-wrapper' b'1.36.09' b'integrity=\"sha512-fY3YY8F6TWWH1WYn5usF5UW8HOzBtYjc4UntE5AiF9EBIIEF8dJ7emzsbOtvO8lvPC5jrN7KY9C0NjOAFkVaAw==\"' b'integrity=\"sha512-MSRS8SYgnFvQSIKjPq83ts4zQqtS7YOZXK7D4Xf0SeXB4HPtzes0YeDAFQeCkpxu8p+CcO2Uty4rAyPaYzQCEg==\"' b'data-hydro-click=\"{&quot;event_type&quot;:&quot;analytics.event&quot;,&quot;payload&quot;:{&quot;category&quot;:&quot;Sign' b'col-12' b'&quot;botFiltering&quot;:' b'data-src=\"https://github.githubassets.com/assets/chunk-failbot-a90a8697.js\"></script>' b'&quot;organization_plan&quot;},' b'3a.75.75' b'community' b'terms&quot;,&quot;label&quot;:&quot;text:terms&quot;,&quot;originating_url&quot;:&quot;https://github.com/pytorch/examples/blob/master/word_language_model/data/wikitext-2/test.txt&quot;,&quot;user_id&quot;:null}}\"'\n",
            "b'DOM' b'that' b'01-1.5' b'&quot;20529822202&quot;,' b'000-1.5z\"></path>' b'mr-3\">' b'Desktop\"' b'action' b'01-.25-.25V1.75zM11.75' b'tooltipped-no-delay\"' b'make' b'another' b'class=\"HeaderMenu-link' b'href=\"/pytorch/examples/issues\"' b'2.34' b'data-jump-to-suggestions-path=\"/_graphql/GetSuggestedNavigationDestinations\"' b'6.94l3.22-3.22a.75.75' b'terms&quot;,&quot;label&quot;:&quot;text:terms&quot;,&quot;originating_url&quot;:&quot;https://github.com/pytorch/examples/blob/master/word_language_model/data/wikitext-2/test.txt&quot;,&quot;user_id&quot;:null}}\"' b'class=\"js-stale-session-flash-signed-out\"' b'0zm-.25-5.25a.75.75'\n",
            "\n"
          ]
        }
      ]
    },
    {
      "cell_type": "markdown",
      "metadata": {
        "id": "p-ljmSHwl_Ku"
      },
      "source": [
        "GPT-2ではありませんが、モデルが言語の構造を学び始めていることが確認できます。\n",
        "\n",
        "これで動的量子化を解説する準備がほとんどできました。\n",
        "あとはいくつか補助的な関数を定義するだけです。"
      ]
    },
    {
      "cell_type": "code",
      "metadata": {
        "id": "iC7OGdRpl_Kv"
      },
      "source": [
        "bptt = 25\n",
        "criterion = nn.CrossEntropyLoss()\n",
        "eval_batch_size = 1\n",
        "\n",
        "# テストデータセットの作成\n",
        "def batchify(data, bsz):\n",
        "    # データセットをbsz個のパーツに綺麗に分割する方法を示します。\n",
        "    nbatch = data.size(0) // bsz\n",
        "    # うまく収まらない余分な要素を切り取ります。\n",
        "    data = data.narrow(0, 0, nbatch * bsz)\n",
        "    # bsz個のバッチ間でデータが均等になるように分割します。\n",
        "    return data.view(bsz, -1).t().contiguous()\n",
        "\n",
        "test_data = batchify(corpus.test, eval_batch_size)\n",
        "\n",
        "# 評価関数\n",
        "def get_batch(source, i):\n",
        "    seq_len = min(bptt, len(source) - 1 - i)\n",
        "    data = source[i:i+seq_len]\n",
        "    target = source[i+1:i+1+seq_len].reshape(-1)\n",
        "    return data, target\n",
        "\n",
        "def repackage_hidden(h):\n",
        "  \"\"\"隠れ層の状態を新しいテンソルにラップし、勾配の履歴から切り離します。\"\"\"\n",
        "\n",
        "  if isinstance(h, torch.Tensor):\n",
        "    return h.detach()\n",
        "  else:\n",
        "    return tuple(repackage_hidden(v) for v in h)\n",
        "\n",
        "def evaluate(model_, data_source):\n",
        "    # ドロップアウトを無効化する評価モードの有効化\n",
        "    model_.eval()\n",
        "    total_loss = 0.\n",
        "    hidden = model_.init_hidden(eval_batch_size)\n",
        "    with torch.no_grad():\n",
        "        for i in range(0, data_source.size(0) - 1, bptt):\n",
        "            data, targets = get_batch(data_source, i)\n",
        "            output, hidden = model_(data, hidden)\n",
        "            hidden = repackage_hidden(hidden)\n",
        "            output_flat = output.view(-1, ntokens)\n",
        "            total_loss += len(data) * criterion(output_flat, targets).item()\n",
        "    return total_loss / (len(data_source) - 1)"
      ],
      "execution_count": 8,
      "outputs": []
    },
    {
      "cell_type": "markdown",
      "metadata": {
        "id": "9TTbOQesl_Kv"
      },
      "source": [
        "## 4. 動的量子化の検証\n",
        "\n",
        "最後に`torch.quantization.quantize_dynamic`をモデルに呼び出します。\n",
        "\n",
        "そして、以下の2点を指定します。\n",
        "- モデル内の `nn.LSTM` モジュールと `nn.Linear` モジュールが量子化されるようにします。\n",
        "- 重みが`int8`の値に変換されるようにします。"
      ]
    },
    {
      "cell_type": "code",
      "metadata": {
        "id": "suuA5Cltl_Kw",
        "colab": {
          "base_uri": "https://localhost:8080/"
        },
        "outputId": "4ce77b53-b391-4b86-8ce9-deb2076a28bb"
      },
      "source": [
        "import torch.quantization\n",
        "\n",
        "quantized_model = torch.quantization.quantize_dynamic(\n",
        "    model, {nn.LSTM, nn.Linear}, dtype=torch.qint8\n",
        ")\n",
        "print(quantized_model)"
      ],
      "execution_count": 9,
      "outputs": [
        {
          "output_type": "stream",
          "name": "stdout",
          "text": [
            "LSTMModel(\n",
            "  (drop): Dropout(p=0.5, inplace=False)\n",
            "  (encoder): Embedding(2706, 512)\n",
            "  (rnn): DynamicQuantizedLSTM(512, 256, num_layers=5, dropout=0.5)\n",
            "  (decoder): DynamicQuantizedLinear(in_features=256, out_features=2706, dtype=torch.qint8, qscheme=torch.per_tensor_affine)\n",
            ")\n"
          ]
        }
      ]
    },
    {
      "cell_type": "markdown",
      "metadata": {
        "id": "B2uLp-UTl_Kw"
      },
      "source": [
        "モデルは変わっていないように見えます。\n",
        "では、量子化はどのような利点をもたらしたのでしょうか。\n",
        "\n",
        "一つは、モデルのサイズが大幅に削減されている点です。"
      ]
    },
    {
      "cell_type": "code",
      "metadata": {
        "id": "YYo9Lwp3l_Kw",
        "colab": {
          "base_uri": "https://localhost:8080/"
        },
        "outputId": "8783d2b7-b211-4f54-f3aa-1af95eb07a02"
      },
      "source": [
        "def print_size_of_model(model):\n",
        "    torch.save(model.state_dict(), \"temp.p\")\n",
        "    print('Size (MB):', os.path.getsize(\"temp.p\")/1e6)\n",
        "    os.remove('temp.p')\n",
        "\n",
        "print_size_of_model(model)\n",
        "print_size_of_model(quantized_model)"
      ],
      "execution_count": 10,
      "outputs": [
        {
          "output_type": "stream",
          "name": "stdout",
          "text": [
            "Size (MB): 19.905184\n",
            "Size (MB): 9.17865\n"
          ]
        }
      ]
    },
    {
      "cell_type": "markdown",
      "metadata": {
        "id": "NTO8wviKl_Kx"
      },
      "source": [
        "二つ目は、評価用の損失に影響をほとんど与えることなく、推論時間を短縮している点です。\n",
        "\n",
        "注釈：量子化モデルは単一スレッドで実行されるため、単一スレッドでの比較を行うためにスレッド数を1つにしています。"
      ]
    },
    {
      "cell_type": "code",
      "metadata": {
        "id": "U8-NIwpSl_Ky",
        "colab": {
          "base_uri": "https://localhost:8080/"
        },
        "outputId": "63915162-4fe7-4e73-c918-be4b2e95442c"
      },
      "source": [
        "torch.set_num_threads(1)\n",
        "\n",
        "def time_model_evaluation(model, test_data):\n",
        "    s = time.time()\n",
        "    loss = evaluate(model, test_data)\n",
        "    elapsed = time.time() - s\n",
        "    print('''loss: {0:.3f}\\nelapsed time (seconds): {1:.1f}'''.format(loss, elapsed))\n",
        "\n",
        "time_model_evaluation(model, test_data)\n",
        "time_model_evaluation(quantized_model, test_data)"
      ],
      "execution_count": 11,
      "outputs": [
        {
          "output_type": "stream",
          "name": "stdout",
          "text": [
            "loss: 7.902\n",
            "elapsed time (seconds): 4.3\n",
            "loss: 7.902\n",
            "elapsed time (seconds): 2.7\n"
          ]
        }
      ]
    },
    {
      "cell_type": "markdown",
      "metadata": {
        "id": "AQnztGaEl_Kz"
      },
      "source": [
        "量子化せずにローカルのMacBook Pro上で上記コードを実行した場合、推論には200秒ほど掛かりますが、量子化を行うことで100秒ほどで推論を行えるようになります。"
      ]
    },
    {
      "cell_type": "markdown",
      "metadata": {
        "id": "UysbzAX6l_Kz"
      },
      "source": [
        "## 結論\n",
        "\n",
        "動的量子化は、モデルサイズを削減する上で最も簡単な方法であると考えられ、また量子化によって発生する精度への影響は限定的なものです。\n",
        "\n",
        "本チュートリアルに目を通していただき、ありがとうございます。\n",
        "どんなフィードバックでも歓迎するので、もし何かございましたら、[こちら](https://github.com/pytorch/pytorch/issues)にissueを作成してください。（日本語訳注：日本語版チュートリアルに関連する内容であれば、是非[こちら](https://github.com/YutaroOgawa/pytorch_tutorials_jp)にissueの登録をお願いいたします。）"
      ]
    }
  ]
}