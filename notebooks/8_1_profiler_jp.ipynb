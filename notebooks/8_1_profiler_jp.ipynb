{
 "nbformat": 4,
 "nbformat_minor": 0,
 "metadata": {
  "kernelspec": {
   "display_name": "Python 3",
   "language": "python",
   "name": "python3"
  },
  "language_info": {
   "codemirror_mode": {
    "name": "ipython",
    "version": 3
   },
   "file_extension": ".py",
   "mimetype": "text/x-python",
   "name": "python",
   "nbconvert_exporter": "python",
   "pygments_lexer": "ipython3",
   "version": "3.7.1"
  },
  "colab": {
   "name": "8_1_profiler_jp.ipynb",
   "provenance": [],
   "collapsed_sections": [],
   "include_colab_link": true
  },
  "accelerator": "GPU"
 },
 "cells": [
  {
   "cell_type": "markdown",
   "metadata": {
    "id": "view-in-github",
    "colab_type": "text"
   },
   "source": [
    "<a href=\"https://colab.research.google.com/github/ykato27/PyTroch-Model-Optimization/blob/main/8_1_profiler_jp.ipynb\" target=\"_parent\"><img src=\"https://colab.research.google.com/assets/colab-badge.svg\" alt=\"Open In Colab\"/></a>"
   ]
  },
  {
   "cell_type": "markdown",
   "metadata": {
    "id": "0exIz08xKZkF"
   },
   "source": [
    "# 「PyTorchモジュールのプロファイリング方法」\n",
    "\n",
    "【原題】Profiling your PyTorch Module\n",
    "\n",
    "【原著】[Suraj Subramanian](https://github.com/suraj813)\n",
    "\n",
    "【元URL】https://pytorch.org/tutorials/beginner/profiler.html\n",
    "\n",
    "【翻訳】電通国際情報サービスISID HCM事業部　櫻井 亮佑\n",
    "\n",
    "【日付】2020年1月28日\n",
    "\n",
    "【チュトーリアル概要】\n",
    "\n",
    "PyTorchには、PyTorchの様々な処理を行うコードの、実行に掛かる時間、および、メモリのコストを特定するために役に立つ、プロファイラーAPIが存在します。\n",
    "\n",
    "プロファイラーは簡単にコードに組み込むことができ、結果を表形式で出力したり、JSON形式のトレースファイルとして返すことが可能です。"
   ]
  },
  {
   "cell_type": "markdown",
   "metadata": {
    "id": "CBvJbHdTKZkP"
   },
   "source": [
    "  \n",
    "\n",
    "\n",
    "**注釈**<br>\n",
    "プロファイラーはマルチスレッドのモデルをサポートしています。\n",
    "プロファイラーは処理と同じスレッド内で実行されますが、別のスレッドで実行される可能性のある子の処理もプロファイルします。\n",
    "ただし、同時に実行されるプロファイラーは、結果が混在することを防ぐために自身のスレッド内に収まるようになっています。\n",
    "\n",
    "\n",
    "**注釈**<br>\n",
    "PyTorch 1.8では新たなAPIを導入し、今後のリリースで旧式のプロファイラーAPIを置き換えていきます。\n",
    "新しいAPIについては、[こちらのページ](https://pytorch.org/docs/master/profiler.html)をご参照ください。\n",
    "\n",
    "プロファイラーAPIの使用方法について手短に確認したい場合は、[こちらのレシピ](https://pytorch.org/tutorials/recipes/recipes/profiler.html)をご参照ください。\n",
    "\n",
    "--------------\n",
    "\n"
   ]
  },
  {
   "cell_type": "code",
   "metadata": {
    "id": "A6Jpea1-KZkP"
   },
   "source": [
    "import numpy as np\n",
    "import torch\n",
    "from torch import nn\n",
    "import torch.autograd.profiler as profiler"
   ],
   "execution_count": 1,
   "outputs": []
  },
  {
   "cell_type": "code",
   "metadata": {
    "id": "_4uyIFVgKZkN"
   },
   "source": [
    "%matplotlib inline"
   ],
   "execution_count": 2,
   "outputs": []
  },
  {
   "cell_type": "markdown",
   "metadata": {
    "id": "TaPFlKXcKZkQ"
   },
   "source": [
    "## プロファイラーを用いたパフォーマンスのデバッグ\n",
    "\n",
    "プロファイラーは、モデル内のパファーマンスのボトルネックを特定する上で役立ちます。\n",
    "本チュートリアルでは例として、以下の2つのサブタスクをこなすオリジナルのモジュールを構築します。\n",
    "\n",
    "- 入力の線形変換\n",
    "- 線形変換の結果を用いたマスクテンソルのインデックスの取得\n",
    "\n",
    "`profiler.record_function(\"label\")`を使用し、各サブタスクを行うコードを分離して、ラベル付けされたコンテクストマネージャー内にラップします。\n",
    "\n",
    "プロファイラーの出力では、サブタスク内のすべての処理の総合的なパフォーマンス指標が、対応するラベルの下に表示されます。\n",
    "\n",
    "なお、プロファイラーを使用することにより、オーバーヘッドが多少生じます。そのため、プロファイラーはコードを調査する目的のみに使用することが最善です。\n",
    "\n",
    "実行時間のベンチマークを測定する際は、プロファイラーの部分を取り除くことを忘れないでおきましょう。"
   ]
  },
  {
   "cell_type": "code",
   "metadata": {
    "id": "8rmDBN7hKZkQ"
   },
   "source": [
    "class MyModule(nn.Module):\n",
    "    def __init__(self, in_features: int, out_features: int, bias: bool = True):\n",
    "        super(MyModule, self).__init__()\n",
    "        self.linear = nn.Linear(in_features, out_features, bias)\n",
    "\n",
    "    def forward(self, input, mask):\n",
    "        with profiler.record_function(\"LINEAR PASS\"):\n",
    "            out = self.linear(input)\n",
    "\n",
    "        with profiler.record_function(\"MASK INDICES\"):\n",
    "            threshold = out.sum(axis=1).mean().item()\n",
    "            hi_idx = np.argwhere(mask.cpu().numpy() > threshold)\n",
    "            hi_idx = torch.from_numpy(hi_idx).cuda()\n",
    "\n",
    "        return out, hi_idx"
   ],
   "execution_count": 3,
   "outputs": []
  },
  {
   "cell_type": "markdown",
   "metadata": {
    "id": "3mftIWI2KZkR"
   },
   "source": [
    "## フォワードパスのプロファイル\n",
    "\n",
    "ランダム入力とマスクテンソル、そしてモデルを初期化します。\n",
    "\n",
    "プロファイラーを実行する前に、正確なパフォーマンスのベンチマークを測定するためにCUDAの準備をします。\n",
    "\n",
    "`profiler.profile`コンテクストマネージャー内でモジュールのフォワードパスをラップします。\n",
    "\n",
    "`with_stack=True`パラメーターは、ファイルとトレース内の処理の行数を追加で記録します。\n",
    "\n",
    "**注意**<br>\n",
    "`with_stack=True`はオーバーヘッドを生じるため、コードを調査する目的にのみ使用します。\n",
    "。\n",
    "パフォーマンスのベンチマーク測定をする際は、`with_stack=False`にすることを忘れないようにしましょう。"
   ]
  },
  {
   "cell_type": "code",
   "metadata": {
    "id": "OtsUlPG3KZkR"
   },
   "source": [
    "model = MyModule(500, 10).cuda()\n",
    "input = torch.rand(128, 500).cuda()\n",
    "mask = torch.rand((500, 500, 500), dtype=torch.double).cuda()\n",
    "\n",
    "# warm-up\n",
    "model(input, mask)\n",
    "\n",
    "with profiler.profile(with_stack=True, profile_memory=True) as prof:\n",
    "    out, idx = model(input, mask)"
   ],
   "execution_count": 4,
   "outputs": []
  },
  {
   "cell_type": "markdown",
   "metadata": {
    "id": "uXQhcQvvKZkT"
   },
   "source": [
    "## プロファイル結果の出力\n",
    "\n",
    "最後にプロファイル結果を出力します。\n",
    "\n",
    "`profiler.key_averages`で処理名、任意で入力の形状、またはスタックトレースのイベント毎で結果を集約します。\n",
    "\n",
    "入力の形状でグループ化を行うことは、どのテンソルの形状がモデルに利用されているか特定する上で役に立ちます。\n",
    "\n",
    "ここで、処理と（直近5つのイベントのみに切り取られた）処理のトレースバック毎に実行時間を集約する`group_by_stack_n=5` を使用し、それらが登録された順番でイベントを表示します。\n",
    "\n",
    "なお表は、`sort_by`引数を与えることでソートできます。有効なソートキーについては、[ドキュメント](https://pytorch.org/docs/stable/autograd.html#profiler)をご参照ください。\n",
    "\n",
    "**注釈**<br>\n",
    "ノートブック内でプロファイラーを実行していると、スタックトレース内のファイル名ではなく、`<ipython-input-18-193a910735e8>(13): forward`のようなエントリを目にするかもしれません。\n",
    "これらは、`<notebook-cell>(line number): calling-function`に対応しています。"
   ]
  },
  {
   "cell_type": "code",
   "metadata": {
    "colab": {
     "base_uri": "https://localhost:8080/",
     "height": 769
    },
    "id": "QQFrZn37KZkT",
    "outputId": "b4b82d0c-975e-41db-f49c-a116b22a97f6"
   },
   "source": [
    "print(\n",
    "    prof.key_averages(group_by_stack_n=5).table(\n",
    "        sort_by=\"self_cpu_time_total\", row_limit=5\n",
    "    )\n",
    ")\n",
    "\n",
    "\"\"\"\n",
    "(Some columns are omitted)\n",
    "\n",
    "-------------  ------------  ------------  ------------  ---------------------------------\n",
    "         Name    Self CPU %      Self CPU  Self CPU Mem   Source Location\n",
    "-------------  ------------  ------------  ------------  ---------------------------------\n",
    " MASK INDICES        87.88%        5.212s    -953.67 Mb  /mnt/xarfuse/.../torch/au\n",
    "                                                         <ipython-input-...>(10): forward\n",
    "                                                         /mnt/xarfuse/.../torch/nn\n",
    "                                                         <ipython-input-...>(9): <module>\n",
    "                                                         /mnt/xarfuse/.../IPython/\n",
    "\n",
    "  aten::copy_        12.07%     715.848ms           0 b  <ipython-input-...>(12): forward\n",
    "                                                         /mnt/xarfuse/.../torch/nn\n",
    "                                                         <ipython-input-...>(9): <module>\n",
    "                                                         /mnt/xarfuse/.../IPython/\n",
    "                                                         /mnt/xarfuse/.../IPython/\n",
    "\n",
    "  LINEAR PASS         0.01%     350.151us         -20 b  /mnt/xarfuse/.../torch/au\n",
    "                                                         <ipython-input-...>(7): forward\n",
    "                                                         /mnt/xarfuse/.../torch/nn\n",
    "                                                         <ipython-input-...>(9): <module>\n",
    "                                                         /mnt/xarfuse/.../IPython/\n",
    "\n",
    "  aten::addmm         0.00%     293.342us           0 b  /mnt/xarfuse/.../torch/nn\n",
    "                                                         /mnt/xarfuse/.../torch/nn\n",
    "                                                         /mnt/xarfuse/.../torch/nn\n",
    "                                                         <ipython-input-...>(8): forward\n",
    "                                                         /mnt/xarfuse/.../torch/nn\n",
    "\n",
    "   aten::mean         0.00%     235.095us           0 b  <ipython-input-...>(11): forward\n",
    "                                                         /mnt/xarfuse/.../torch/nn\n",
    "                                                         <ipython-input-...>(9): <module>\n",
    "                                                         /mnt/xarfuse/.../IPython/\n",
    "                                                         /mnt/xarfuse/.../IPython/\n",
    "\n",
    "-----------------------------  ------------  ---------- ----------------------------------\n",
    "Self CPU time total: 5.931s\n",
    "\n",
    "\"\"\""
   ],
   "execution_count": 5,
   "outputs": [
    {
     "output_type": "stream",
     "name": "stdout",
     "text": [
      "-----------------------------  ------------  ------------  ------------  ------------  ------------  ------------  ------------  ------------  ------------  ------------  ---------------------------------------------------------------------------  \n",
      "                         Name    Self CPU %      Self CPU   CPU total %     CPU total  CPU time avg       CPU Mem  Self CPU Mem      CUDA Mem  Self CUDA Mem    # of Calls  Source Location                                                              \n",
      "-----------------------------  ------------  ------------  ------------  ------------  ------------  ------------  ------------  ------------  ------------  ------------  ---------------------------------------------------------------------------  \n",
      "                 MASK INDICES        84.32%        2.724s        99.83%        3.225s        3.225s          -4 b    -953.67 Mb       2.79 Gb      -1.00 Kb             1  ...l/lib/python3.7/dist-packages/torch/autograd/profiler.py(614): __enter__  \n",
      "                                                                                                                                                                           <ipython-input-3-7f74615814c7>(10): forward                                  \n",
      "                                                                                                                                                                           ...lib/python3.7/dist-packages/torch/nn/modules/module.py(1051): _call_impl  \n",
      "                                                                                                                                                                           <ipython-input-4-258d6d63f9fa>(9): <module>                                  \n",
      "                                                                                                                                                                           ...python3.7/dist-packages/IPython/core/interactiveshell.py(2882): run_code  \n",
      "                                                                                                                                                                                                                                                        \n",
      "                  aten::copy_        11.80%     381.119ms        11.80%     381.119ms     381.119ms           0 b           0 b           0 b           0 b             1  <ipython-input-3-7f74615814c7>(13): forward                                  \n",
      "                                                                                                                                                                           ...lib/python3.7/dist-packages/torch/nn/modules/module.py(1051): _call_impl  \n",
      "                                                                                                                                                                           <ipython-input-4-258d6d63f9fa>(9): <module>                                  \n",
      "                                                                                                                                                                           ...python3.7/dist-packages/IPython/core/interactiveshell.py(2882): run_code  \n",
      "                                                                                                                                                                           ...n3.7/dist-packages/IPython/core/interactiveshell.py(2822): run_ast_nodes  \n",
      "                                                                                                                                                                                                                                                        \n",
      "                  aten::copy_         3.69%     119.238ms         3.69%     119.238ms     119.238ms           0 b           0 b           0 b           0 b             1  <ipython-input-3-7f74615814c7>(12): forward                                  \n",
      "                                                                                                                                                                           ...lib/python3.7/dist-packages/torch/nn/modules/module.py(1051): _call_impl  \n",
      "                                                                                                                                                                           <ipython-input-4-258d6d63f9fa>(9): <module>                                  \n",
      "                                                                                                                                                                           ...python3.7/dist-packages/IPython/core/interactiveshell.py(2882): run_code  \n",
      "                                                                                                                                                                           ...n3.7/dist-packages/IPython/core/interactiveshell.py(2822): run_ast_nodes  \n",
      "                                                                                                                                                                                                                                                        \n",
      "                  aten::zeros         0.14%       4.580ms         0.15%       4.697ms       4.697ms           4 b           0 b           0 b           0 b             1  ...al/lib/python3.7/dist-packages/torch/autograd/profiler.py(611): __init__  \n",
      "                                                                                                                                                                           <ipython-input-3-7f74615814c7>(7): forward                                   \n",
      "                                                                                                                                                                           ...lib/python3.7/dist-packages/torch/nn/modules/module.py(1051): _call_impl  \n",
      "                                                                                                                                                                           <ipython-input-4-258d6d63f9fa>(9): <module>                                  \n",
      "                                                                                                                                                                           ...python3.7/dist-packages/IPython/core/interactiveshell.py(2882): run_code  \n",
      "                                                                                                                                                                                                                                                        \n",
      "                     aten::to         0.01%     219.559us        11.81%     381.410ms     381.410ms           0 b           0 b       2.79 Gb           0 b             1  <ipython-input-3-7f74615814c7>(13): forward                                  \n",
      "                                                                                                                                                                           ...lib/python3.7/dist-packages/torch/nn/modules/module.py(1051): _call_impl  \n",
      "                                                                                                                                                                           <ipython-input-4-258d6d63f9fa>(9): <module>                                  \n",
      "                                                                                                                                                                           ...python3.7/dist-packages/IPython/core/interactiveshell.py(2882): run_code  \n",
      "                                                                                                                                                                           ...n3.7/dist-packages/IPython/core/interactiveshell.py(2822): run_ast_nodes  \n",
      "                                                                                                                                                                                                                                                        \n",
      "-----------------------------  ------------  ------------  ------------  ------------  ------------  ------------  ------------  ------------  ------------  ------------  ---------------------------------------------------------------------------  \n",
      "Self CPU time total: 3.230s\n",
      "\n"
     ]
    },
    {
     "output_type": "execute_result",
     "data": {
      "application/vnd.google.colaboratory.intrinsic+json": {
       "type": "string"
      },
      "text/plain": [
       "'\\n(Some columns are omitted)\\n\\n-------------  ------------  ------------  ------------  ---------------------------------\\n         Name    Self CPU %      Self CPU  Self CPU Mem   Source Location\\n-------------  ------------  ------------  ------------  ---------------------------------\\n MASK INDICES        87.88%        5.212s    -953.67 Mb  /mnt/xarfuse/.../torch/au\\n                                                         <ipython-input-...>(10): forward\\n                                                         /mnt/xarfuse/.../torch/nn\\n                                                         <ipython-input-...>(9): <module>\\n                                                         /mnt/xarfuse/.../IPython/\\n\\n  aten::copy_        12.07%     715.848ms           0 b  <ipython-input-...>(12): forward\\n                                                         /mnt/xarfuse/.../torch/nn\\n                                                         <ipython-input-...>(9): <module>\\n                                                         /mnt/xarfuse/.../IPython/\\n                                                         /mnt/xarfuse/.../IPython/\\n\\n  LINEAR PASS         0.01%     350.151us         -20 b  /mnt/xarfuse/.../torch/au\\n                                                         <ipython-input-...>(7): forward\\n                                                         /mnt/xarfuse/.../torch/nn\\n                                                         <ipython-input-...>(9): <module>\\n                                                         /mnt/xarfuse/.../IPython/\\n\\n  aten::addmm         0.00%     293.342us           0 b  /mnt/xarfuse/.../torch/nn\\n                                                         /mnt/xarfuse/.../torch/nn\\n                                                         /mnt/xarfuse/.../torch/nn\\n                                                         <ipython-input-...>(8): forward\\n                                                         /mnt/xarfuse/.../torch/nn\\n\\n   aten::mean         0.00%     235.095us           0 b  <ipython-input-...>(11): forward\\n                                                         /mnt/xarfuse/.../torch/nn\\n                                                         <ipython-input-...>(9): <module>\\n                                                         /mnt/xarfuse/.../IPython/\\n                                                         /mnt/xarfuse/.../IPython/\\n\\n-----------------------------  ------------  ---------- ----------------------------------\\nSelf CPU time total: 5.931s\\n\\n'"
      ]
     },
     "metadata": {},
     "execution_count": 5
    }
   ]
  },
  {
   "cell_type": "markdown",
   "metadata": {
    "id": "kQCH3LTPKZkU"
   },
   "source": [
    "## メモリパフォーマンスの向上\n",
    "\n",
    "メモリと処理時間の観点から、最も高コストな処理は、マスクインデックス内の処理``forward (10)``である点に留意してください。\n",
    "\n",
    "まずはメモリ消費の改善について取り組んでみましょう。\n",
    "\n",
    "12行目の``.to()``で、953.67 Mbを消費していることがわかります（※日本語版注釈：``.cpu()``を指すと思われます）。\n",
    "\n",
    "この処理は、``mask``をCPUにコピーしています。\n",
    "\n",
    "そして``mask``は、``torch.double``型で初期化されています。\n",
    "\n",
    "``torch.double``型を``torch.float``型にキャストすることで、メモリの負荷を低減できるでしょうか。"
   ]
  },
  {
   "cell_type": "code",
   "metadata": {
    "colab": {
     "base_uri": "https://localhost:8080/",
     "height": 769
    },
    "id": "JByTHF8WKZkV",
    "outputId": "9cf45fd9-0ecd-4a91-f83b-150fc0e17aa7"
   },
   "source": [
    "model = MyModule(500, 10).cuda()\n",
    "input = torch.rand(128, 500).cuda()\n",
    "mask = torch.rand((500, 500, 500), dtype=torch.float).cuda()\n",
    "\n",
    "# 準備\n",
    "model(input, mask)\n",
    "\n",
    "with profiler.profile(with_stack=True, profile_memory=True) as prof:\n",
    "    out, idx = model(input, mask)\n",
    "\n",
    "print(\n",
    "    prof.key_averages(group_by_stack_n=5).table(\n",
    "        sort_by=\"self_cpu_time_total\", row_limit=5\n",
    "    )\n",
    ")\n",
    "\n",
    "\"\"\"\n",
    "(Some columns are omitted)\n",
    "\n",
    "-----------------  ------------  ------------  ------------  --------------------------------\n",
    "             Name    Self CPU %      Self CPU  Self CPU Mem   Source Location\n",
    "-----------------  ------------  ------------  ------------  --------------------------------\n",
    "     MASK INDICES        93.61%        5.006s    -476.84 Mb  /mnt/xarfuse/.../torch/au\n",
    "                                                             <ipython-input-...>(10): forward\n",
    "                                                             /mnt/xarfuse/  /torch/nn\n",
    "                                                             <ipython-input-...>(9): <module>\n",
    "                                                             /mnt/xarfuse/.../IPython/\n",
    "\n",
    "      aten::copy_         6.34%     338.759ms           0 b  <ipython-input-...>(12): forward\n",
    "                                                             /mnt/xarfuse/.../torch/nn\n",
    "                                                             <ipython-input-...>(9): <module>\n",
    "                                                             /mnt/xarfuse/.../IPython/\n",
    "                                                             /mnt/xarfuse/.../IPython/\n",
    "\n",
    " aten::as_strided         0.01%     281.808us           0 b  <ipython-input-...>(11): forward\n",
    "                                                             /mnt/xarfuse/.../torch/nn\n",
    "                                                             <ipython-input-...>(9): <module>\n",
    "                                                             /mnt/xarfuse/.../IPython/\n",
    "                                                             /mnt/xarfuse/.../IPython/\n",
    "\n",
    "      aten::addmm         0.01%     275.721us           0 b  /mnt/xarfuse/.../torch/nn\n",
    "                                                             /mnt/xarfuse/.../torch/nn\n",
    "                                                             /mnt/xarfuse/.../torch/nn\n",
    "                                                             <ipython-input-...>(8): forward\n",
    "                                                             /mnt/xarfuse/.../torch/nn\n",
    "\n",
    "      aten::_local        0.01%     268.650us           0 b  <ipython-input-...>(11): forward\n",
    "      _scalar_dense                                          /mnt/xarfuse/.../torch/nn\n",
    "                                                             <ipython-input-...>(9): <module>\n",
    "                                                             /mnt/xarfuse/.../IPython/\n",
    "                                                             /mnt/xarfuse/.../IPython/\n",
    "\n",
    "-----------------  ------------  ------------  ------------  --------------------------------\n",
    "Self CPU time total: 5.347s\n",
    "\n",
    "\"\"\""
   ],
   "execution_count": 6,
   "outputs": [
    {
     "output_type": "stream",
     "name": "stdout",
     "text": [
      "-----------------------------  ------------  ------------  ------------  ------------  ------------  ------------  ------------  ------------  ------------  ------------  ---------------------------------------------------------------------------  \n",
      "                         Name    Self CPU %      Self CPU   CPU total %     CPU total  CPU time avg       CPU Mem  Self CPU Mem      CUDA Mem  Self CUDA Mem    # of Calls  Source Location                                                              \n",
      "-----------------------------  ------------  ------------  ------------  ------------  ------------  ------------  ------------  ------------  ------------  ------------  ---------------------------------------------------------------------------  \n",
      "                 MASK INDICES        82.05%        2.230s        99.97%        2.716s        2.716s          -4 b    -476.84 Mb       2.79 Gb      -1.00 Kb             1  ...l/lib/python3.7/dist-packages/torch/autograd/profiler.py(614): __enter__  \n",
      "                                                                                                                                                                           <ipython-input-3-7f74615814c7>(10): forward                                  \n",
      "                                                                                                                                                                           ...lib/python3.7/dist-packages/torch/nn/modules/module.py(1051): _call_impl  \n",
      "                                                                                                                                                                           <ipython-input-6-f6f3c716c07b>(9): <module>                                  \n",
      "                                                                                                                                                                           ...python3.7/dist-packages/IPython/core/interactiveshell.py(2882): run_code  \n",
      "                                                                                                                                                                                                                                                        \n",
      "                  aten::copy_        14.01%     380.775ms        14.01%     380.775ms     380.775ms           0 b           0 b           0 b           0 b             1  <ipython-input-3-7f74615814c7>(13): forward                                  \n",
      "                                                                                                                                                                           ...lib/python3.7/dist-packages/torch/nn/modules/module.py(1051): _call_impl  \n",
      "                                                                                                                                                                           <ipython-input-6-f6f3c716c07b>(9): <module>                                  \n",
      "                                                                                                                                                                           ...python3.7/dist-packages/IPython/core/interactiveshell.py(2882): run_code  \n",
      "                                                                                                                                                                           ...n3.7/dist-packages/IPython/core/interactiveshell.py(2822): run_ast_nodes  \n",
      "                                                                                                                                                                                                                                                        \n",
      "                  aten::copy_         3.87%     105.252ms         3.87%     105.252ms     105.252ms           0 b           0 b           0 b           0 b             1  <ipython-input-3-7f74615814c7>(12): forward                                  \n",
      "                                                                                                                                                                           ...lib/python3.7/dist-packages/torch/nn/modules/module.py(1051): _call_impl  \n",
      "                                                                                                                                                                           <ipython-input-6-f6f3c716c07b>(9): <module>                                  \n",
      "                                                                                                                                                                           ...python3.7/dist-packages/IPython/core/interactiveshell.py(2882): run_code  \n",
      "                                                                                                                                                                           ...n3.7/dist-packages/IPython/core/interactiveshell.py(2822): run_ast_nodes  \n",
      "                                                                                                                                                                                                                                                        \n",
      "                  aten::addmm         0.01%     175.386us         0.01%     247.809us     247.809us           0 b           0 b       5.00 Kb       5.00 Kb             1  /usr/local/lib/python3.7/dist-packages/torch/nn/functional.py(1847): linear  \n",
      "                                                                                                                                                                           ...ocal/lib/python3.7/dist-packages/torch/nn/modules/linear.py(96): forward  \n",
      "                                                                                                                                                                           ...lib/python3.7/dist-packages/torch/nn/modules/module.py(1051): _call_impl  \n",
      "                                                                                                                                                                           <ipython-input-3-7f74615814c7>(8): forward                                   \n",
      "                                                                                                                                                                           ...lib/python3.7/dist-packages/torch/nn/modules/module.py(1051): _call_impl  \n",
      "                                                                                                                                                                                                                                                        \n",
      "                     aten::to         0.00%     123.349us        14.02%     380.960ms     380.960ms           0 b           0 b       2.79 Gb           0 b             1  <ipython-input-3-7f74615814c7>(13): forward                                  \n",
      "                                                                                                                                                                           ...lib/python3.7/dist-packages/torch/nn/modules/module.py(1051): _call_impl  \n",
      "                                                                                                                                                                           <ipython-input-6-f6f3c716c07b>(9): <module>                                  \n",
      "                                                                                                                                                                           ...python3.7/dist-packages/IPython/core/interactiveshell.py(2882): run_code  \n",
      "                                                                                                                                                                           ...n3.7/dist-packages/IPython/core/interactiveshell.py(2822): run_ast_nodes  \n",
      "                                                                                                                                                                                                                                                        \n",
      "-----------------------------  ------------  ------------  ------------  ------------  ------------  ------------  ------------  ------------  ------------  ------------  ---------------------------------------------------------------------------  \n",
      "Self CPU time total: 2.717s\n",
      "\n"
     ]
    },
    {
     "output_type": "execute_result",
     "data": {
      "application/vnd.google.colaboratory.intrinsic+json": {
       "type": "string"
      },
      "text/plain": [
       "'\\n(Some columns are omitted)\\n\\n-----------------  ------------  ------------  ------------  --------------------------------\\n             Name    Self CPU %      Self CPU  Self CPU Mem   Source Location\\n-----------------  ------------  ------------  ------------  --------------------------------\\n     MASK INDICES        93.61%        5.006s    -476.84 Mb  /mnt/xarfuse/.../torch/au\\n                                                             <ipython-input-...>(10): forward\\n                                                             /mnt/xarfuse/  /torch/nn\\n                                                             <ipython-input-...>(9): <module>\\n                                                             /mnt/xarfuse/.../IPython/\\n\\n      aten::copy_         6.34%     338.759ms           0 b  <ipython-input-...>(12): forward\\n                                                             /mnt/xarfuse/.../torch/nn\\n                                                             <ipython-input-...>(9): <module>\\n                                                             /mnt/xarfuse/.../IPython/\\n                                                             /mnt/xarfuse/.../IPython/\\n\\n aten::as_strided         0.01%     281.808us           0 b  <ipython-input-...>(11): forward\\n                                                             /mnt/xarfuse/.../torch/nn\\n                                                             <ipython-input-...>(9): <module>\\n                                                             /mnt/xarfuse/.../IPython/\\n                                                             /mnt/xarfuse/.../IPython/\\n\\n      aten::addmm         0.01%     275.721us           0 b  /mnt/xarfuse/.../torch/nn\\n                                                             /mnt/xarfuse/.../torch/nn\\n                                                             /mnt/xarfuse/.../torch/nn\\n                                                             <ipython-input-...>(8): forward\\n                                                             /mnt/xarfuse/.../torch/nn\\n\\n      aten::_local        0.01%     268.650us           0 b  <ipython-input-...>(11): forward\\n      _scalar_dense                                          /mnt/xarfuse/.../torch/nn\\n                                                             <ipython-input-...>(9): <module>\\n                                                             /mnt/xarfuse/.../IPython/\\n                                                             /mnt/xarfuse/.../IPython/\\n\\n-----------------  ------------  ------------  ------------  --------------------------------\\nSelf CPU time total: 5.347s\\n\\n'"
      ]
     },
     "metadata": {},
     "execution_count": 6
    }
   ]
  },
  {
   "cell_type": "markdown",
   "metadata": {
    "id": "FFGPihGkKZka"
   },
   "source": [
    "対象の処理において、CPUメモリ使用量が半減しました（日本語訳注：-953.67 Mb　→　-476.84 Mb）。"
   ]
  },
  {
   "cell_type": "markdown",
   "metadata": {
    "id": "QH-VdJeoKZke"
   },
   "source": [
    "## 時間パフォーマンスの向上\n",
    "\n",
    "メモリ消費量に加えて。時間のコストもやや減らせましたが、依然として実行に時間が掛かり過ぎています。\n",
    "\n",
    "行列をCUDAからCPUにコピーする処理がいかに高コストな処理であるかわかります。\n",
    "\n",
    "`forward (12)`内の`aten::copy_`は、`mask`をCPUにコピーし、NumPyの`argwhere`関数を使用できるようにしています。\n",
    "\n",
    "そして`forward(13)`の`aten::copy_`は、配列をテンソルとしてCUDAにコピーし直しています。\n",
    "\n",
    "代わりに`torch.nonzero()`を使用すれば、これら2つの処理を両方取り除くことができます。"
   ]
  },
  {
   "cell_type": "code",
   "metadata": {
    "colab": {
     "base_uri": "https://localhost:8080/",
     "height": 769
    },
    "id": "dtNfSZNUKZkf",
    "outputId": "485afa8f-086b-462c-d903-207b0bbe0612"
   },
   "source": [
    "class MyModule(nn.Module):\n",
    "    def __init__(self, in_features: int, out_features: int, bias: bool = True):\n",
    "        super(MyModule, self).__init__()\n",
    "        self.linear = nn.Linear(in_features, out_features, bias)\n",
    "\n",
    "    def forward(self, input, mask):\n",
    "        with profiler.record_function(\"LINEAR PASS\"):\n",
    "            out = self.linear(input)\n",
    "\n",
    "        with profiler.record_function(\"MASK INDICES\"):\n",
    "            threshold = out.sum(axis=1).mean()\n",
    "            hi_idx = (mask > threshold).nonzero(as_tuple=True)\n",
    "\n",
    "        return out, hi_idx\n",
    "\n",
    "\n",
    "model = MyModule(500, 10).cuda()\n",
    "input = torch.rand(128, 500).cuda()\n",
    "mask = torch.rand((500, 500, 500), dtype=torch.float).cuda()\n",
    "\n",
    "# warm-up\n",
    "model(input, mask)\n",
    "\n",
    "with profiler.profile(with_stack=True, profile_memory=True) as prof:\n",
    "    out, idx = model(input, mask)\n",
    "\n",
    "print(\n",
    "    prof.key_averages(group_by_stack_n=5).table(\n",
    "        sort_by=\"self_cpu_time_total\", row_limit=5\n",
    "    )\n",
    ")\n",
    "\n",
    "\"\"\"\n",
    "(Some columns are omitted)\n",
    "\n",
    "--------------  ------------  ------------  ------------  ---------------------------------\n",
    "          Name    Self CPU %      Self CPU  Self CPU Mem   Source Location\n",
    "--------------  ------------  ------------  ------------  ---------------------------------\n",
    "      aten::gt        57.17%     129.089ms           0 b  <ipython-input-...>(12): forward\n",
    "                                                          /mnt/xarfuse/.../torch/nn\n",
    "                                                          <ipython-input-...>(25): <module>\n",
    "                                                          /mnt/xarfuse/.../IPython/\n",
    "                                                          /mnt/xarfuse/.../IPython/\n",
    "\n",
    " aten::nonzero        37.38%      84.402ms           0 b  <ipython-input-...>(12): forward\n",
    "                                                          /mnt/xarfuse/.../torch/nn\n",
    "                                                          <ipython-input-...>(25): <module>\n",
    "                                                          /mnt/xarfuse/.../IPython/\n",
    "                                                          /mnt/xarfuse/.../IPython/\n",
    "\n",
    "   INDEX SCORE         3.32%       7.491ms    -119.21 Mb  /mnt/xarfuse/.../torch/au\n",
    "                                                          <ipython-input-...>(10): forward\n",
    "                                                          /mnt/xarfuse/.../torch/nn\n",
    "                                                          <ipython-input-...>(25): <module>\n",
    "                                                          /mnt/xarfuse/.../IPython/\n",
    "\n",
    "aten::as_strided         0.20%    441.587us          0 b  <ipython-input-...>(12): forward\n",
    "                                                          /mnt/xarfuse/.../torch/nn\n",
    "                                                          <ipython-input-...>(25): <module>\n",
    "                                                          /mnt/xarfuse/.../IPython/\n",
    "                                                          /mnt/xarfuse/.../IPython/\n",
    "\n",
    " aten::nonzero\n",
    "     _numpy             0.18%     395.602us           0 b  <ipython-input-...>(12): forward\n",
    "                                                          /mnt/xarfuse/.../torch/nn\n",
    "                                                          <ipython-input-...>(25): <module>\n",
    "                                                          /mnt/xarfuse/.../IPython/\n",
    "                                                          /mnt/xarfuse/.../IPython/\n",
    "--------------  ------------  ------------  ------------  ---------------------------------\n",
    "Self CPU time total: 225.801ms\n",
    "\n",
    "\"\"\""
   ],
   "execution_count": 7,
   "outputs": [
    {
     "output_type": "stream",
     "name": "stdout",
     "text": [
      "-----------------------  ------------  ------------  ------------  ------------  ------------  ------------  ------------  ------------  ------------  ------------  ---------------------------------------------------------------------------  \n",
      "                   Name    Self CPU %      Self CPU   CPU total %     CPU total  CPU time avg       CPU Mem  Self CPU Mem      CUDA Mem  Self CUDA Mem    # of Calls  Source Location                                                              \n",
      "-----------------------  ------------  ------------  ------------  ------------  ------------  ------------  ------------  ------------  ------------  ------------  ---------------------------------------------------------------------------  \n",
      "          aten::nonzero        87.81%      20.732ms        89.52%      21.137ms      21.137ms           0 b           0 b       1.32 Gb           0 b             1  <ipython-input-7-4175265fd968>(12): forward                                  \n",
      "                                                                                                                                                                     ...lib/python3.7/dist-packages/torch/nn/modules/module.py(1051): _call_impl  \n",
      "                                                                                                                                                                     <ipython-input-7-4175265fd968>(25): <module>                                 \n",
      "                                                                                                                                                                     ...python3.7/dist-packages/IPython/core/interactiveshell.py(2882): run_code  \n",
      "                                                                                                                                                                     ...n3.7/dist-packages/IPython/core/interactiveshell.py(2822): run_ast_nodes  \n",
      "                                                                                                                                                                                                                                                  \n",
      "       aten::as_strided         1.11%     262.836us         1.11%     262.836us      65.709us           0 b           0 b           0 b           0 b             4  <ipython-input-7-4175265fd968>(12): forward                                  \n",
      "                                                                                                                                                                     ...lib/python3.7/dist-packages/torch/nn/modules/module.py(1051): _call_impl  \n",
      "                                                                                                                                                                     <ipython-input-7-4175265fd968>(25): <module>                                 \n",
      "                                                                                                                                                                     ...python3.7/dist-packages/IPython/core/interactiveshell.py(2882): run_code  \n",
      "                                                                                                                                                                     ...n3.7/dist-packages/IPython/core/interactiveshell.py(2822): run_ast_nodes  \n",
      "                                                                                                                                                                                                                                                  \n",
      "           aten::select         0.77%     182.479us         1.64%     387.893us     129.298us           0 b           0 b           0 b           0 b             3  <ipython-input-7-4175265fd968>(12): forward                                  \n",
      "                                                                                                                                                                     ...lib/python3.7/dist-packages/torch/nn/modules/module.py(1051): _call_impl  \n",
      "                                                                                                                                                                     <ipython-input-7-4175265fd968>(25): <module>                                 \n",
      "                                                                                                                                                                     ...python3.7/dist-packages/IPython/core/interactiveshell.py(2882): run_code  \n",
      "                                                                                                                                                                     ...n3.7/dist-packages/IPython/core/interactiveshell.py(2822): run_ast_nodes  \n",
      "                                                                                                                                                                                                                                                  \n",
      "            aten::empty         0.75%     176.239us         0.75%     176.239us      88.120us           0 b           0 b       1.00 Kb       1.00 Kb             2  <ipython-input-7-4175265fd968>(11): forward                                  \n",
      "                                                                                                                                                                     ...lib/python3.7/dist-packages/torch/nn/modules/module.py(1051): _call_impl  \n",
      "                                                                                                                                                                     <ipython-input-7-4175265fd968>(25): <module>                                 \n",
      "                                                                                                                                                                     ...python3.7/dist-packages/IPython/core/interactiveshell.py(2882): run_code  \n",
      "                                                                                                                                                                     ...n3.7/dist-packages/IPython/core/interactiveshell.py(2822): run_ast_nodes  \n",
      "                                                                                                                                                                                                                                                  \n",
      "            aten::zeros         0.72%     169.170us         1.07%     253.214us     253.214us           4 b           0 b           0 b           0 b             1  ...al/lib/python3.7/dist-packages/torch/autograd/profiler.py(611): __init__  \n",
      "                                                                                                                                                                     <ipython-input-7-4175265fd968>(7): forward                                   \n",
      "                                                                                                                                                                     ...lib/python3.7/dist-packages/torch/nn/modules/module.py(1051): _call_impl  \n",
      "                                                                                                                                                                     <ipython-input-7-4175265fd968>(25): <module>                                 \n",
      "                                                                                                                                                                     ...python3.7/dist-packages/IPython/core/interactiveshell.py(2882): run_code  \n",
      "                                                                                                                                                                                                                                                  \n",
      "-----------------------  ------------  ------------  ------------  ------------  ------------  ------------  ------------  ------------  ------------  ------------  ---------------------------------------------------------------------------  \n",
      "Self CPU time total: 23.610ms\n",
      "\n"
     ]
    },
    {
     "output_type": "execute_result",
     "data": {
      "application/vnd.google.colaboratory.intrinsic+json": {
       "type": "string"
      },
      "text/plain": [
       "'\\n(Some columns are omitted)\\n\\n--------------  ------------  ------------  ------------  ---------------------------------\\n          Name    Self CPU %      Self CPU  Self CPU Mem   Source Location\\n--------------  ------------  ------------  ------------  ---------------------------------\\n      aten::gt        57.17%     129.089ms           0 b  <ipython-input-...>(12): forward\\n                                                          /mnt/xarfuse/.../torch/nn\\n                                                          <ipython-input-...>(25): <module>\\n                                                          /mnt/xarfuse/.../IPython/\\n                                                          /mnt/xarfuse/.../IPython/\\n\\n aten::nonzero        37.38%      84.402ms           0 b  <ipython-input-...>(12): forward\\n                                                          /mnt/xarfuse/.../torch/nn\\n                                                          <ipython-input-...>(25): <module>\\n                                                          /mnt/xarfuse/.../IPython/\\n                                                          /mnt/xarfuse/.../IPython/\\n\\n   INDEX SCORE         3.32%       7.491ms    -119.21 Mb  /mnt/xarfuse/.../torch/au\\n                                                          <ipython-input-...>(10): forward\\n                                                          /mnt/xarfuse/.../torch/nn\\n                                                          <ipython-input-...>(25): <module>\\n                                                          /mnt/xarfuse/.../IPython/\\n\\naten::as_strided         0.20%    441.587us          0 b  <ipython-input-...>(12): forward\\n                                                          /mnt/xarfuse/.../torch/nn\\n                                                          <ipython-input-...>(25): <module>\\n                                                          /mnt/xarfuse/.../IPython/\\n                                                          /mnt/xarfuse/.../IPython/\\n\\n aten::nonzero\\n     _numpy             0.18%     395.602us           0 b  <ipython-input-...>(12): forward\\n                                                          /mnt/xarfuse/.../torch/nn\\n                                                          <ipython-input-...>(25): <module>\\n                                                          /mnt/xarfuse/.../IPython/\\n                                                          /mnt/xarfuse/.../IPython/\\n--------------  ------------  ------------  ------------  ---------------------------------\\nSelf CPU time total: 225.801ms\\n\\n'"
      ]
     },
     "metadata": {},
     "execution_count": 7
    }
   ]
  },
  {
   "cell_type": "markdown",
   "metadata": {
    "id": "6vV02XLi4yGi"
   },
   "source": [
    "対象の処理において、計算時間が半減しました（日本語訳注：  2.312s 　→　aten::nonzeroが34.578msに）。"
   ]
  },
  {
   "cell_type": "markdown",
   "metadata": {
    "id": "nAJKTqK6KZkg"
   },
   "source": [
    "## より詳しく学ぶ\n",
    "\n",
    "プロファイラーを使用してPyTorchのモデル内の時間面、メモリ面のボトルネックを調査する方法を解説しました。\n",
    "\n",
    "プロファイラーについては、以下の情報もご参考ください。\n",
    "\n",
    "- [プロファイラーのレシピ](https://pytorch.org/tutorials/recipes/recipes/profiler.html)\n",
    "- [RPC型ワークロードのプロファイリング](https://pytorch.org/tutorials/recipes/distributed_rpc_profiling.html)\n",
    "- [プロファイラーAPI ドキュメント](https://pytorch.org/docs/stable/autograd.html?highlight=profiler#profiler)"
   ]
  }
 ]
}
